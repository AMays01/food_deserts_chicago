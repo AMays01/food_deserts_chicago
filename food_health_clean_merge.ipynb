{
 "cells": [
  {
   "cell_type": "markdown",
   "id": "1219117d-96d5-4b66-ad78-ea09b16a8410",
   "metadata": {},
   "source": [
    "# This notebook explores the census tract food access data and compares it to community area adult obesity rates. #"
   ]
  },
  {
   "cell_type": "code",
   "execution_count": 1,
   "id": "9475d8f5-76b9-4bd2-af2e-742a0958157a",
   "metadata": {},
   "outputs": [],
   "source": [
    "import numpy as np\n",
    "import pandas as pd\n",
    "\n",
    "import cleantools as ct"
   ]
  },
  {
   "cell_type": "code",
   "execution_count": 2,
   "id": "77abd9da-c3f1-43ca-80bf-9f61cd72d488",
   "metadata": {},
   "outputs": [],
   "source": [
    "food_data = pd.read_csv('./data/food_data.csv')\n",
    "census_to_community = pd.read_csv('./data/chicago_census_tract_to_community_area.csv')\n",
    "obesity_rate_df = pd.read_csv('./data/chicago_health_atlas_adult_obesity_rate.csv')\n",
    "diabetes_rate_df = pd.read_csv('./data/chicago_health_diabetes_rate.csv')"
   ]
  },
  {
   "cell_type": "code",
   "execution_count": 3,
   "id": "5507a00f-cd66-4882-a746-37d48ca17bc6",
   "metadata": {},
   "outputs": [
    {
     "data": {
      "text/plain": [
       "(1314, 160)"
      ]
     },
     "execution_count": 3,
     "metadata": {},
     "output_type": "execute_result"
    }
   ],
   "source": [
    "food_data.shape"
   ]
  },
  {
   "cell_type": "code",
   "execution_count": 4,
   "id": "f858bc73-7e00-42c0-aebc-279ada0957af",
   "metadata": {},
   "outputs": [
    {
     "data": {
      "text/plain": [
       "(794, 3)"
      ]
     },
     "execution_count": 4,
     "metadata": {},
     "output_type": "execute_result"
    }
   ],
   "source": [
    "census_to_community.shape"
   ]
  },
  {
   "cell_type": "code",
   "execution_count": 5,
   "id": "dfab18fa-ff52-4cef-9357-977fcfac6a7c",
   "metadata": {},
   "outputs": [
    {
     "data": {
      "text/plain": [
       "(75, 5)"
      ]
     },
     "execution_count": 5,
     "metadata": {},
     "output_type": "execute_result"
    }
   ],
   "source": [
    "obesity_rate_df.shape"
   ]
  },
  {
   "cell_type": "code",
   "execution_count": 6,
   "id": "3b2cc5b7-62a3-4eff-81e5-9ba8f1487bfd",
   "metadata": {},
   "outputs": [
    {
     "data": {
      "text/plain": [
       "(61, 5)"
      ]
     },
     "execution_count": 6,
     "metadata": {},
     "output_type": "execute_result"
    }
   ],
   "source": [
    "diabetes_rate_df.shape"
   ]
  },
  {
   "cell_type": "markdown",
   "id": "73c3d0cf-7ad7-4e6b-b364-f59dca45c72b",
   "metadata": {},
   "source": [
    "Food data is provided on the census tract level, and only tracts in Cook County are included in the food_data DataFrame.  The census_to_community DataFrame identifies the Community Area that each census tract in Chicago is a part of.  Note that it does not include all census tracts in food_data, since Cook County is larger than Chicago.\n",
    "\n",
    "Obesity rate data is missing for three community areas, and diabetes rate data is missing for 17 community areas."
   ]
  },
  {
   "cell_type": "markdown",
   "id": "ea712a46-d3b5-44bd-805e-d410428a090d",
   "metadata": {},
   "source": [
    "### Section A: Cleaning Health Data ###"
   ]
  },
  {
   "cell_type": "code",
   "execution_count": 7,
   "id": "252fd6d2-8269-47b8-89aa-1a327cf96dd4",
   "metadata": {},
   "outputs": [
    {
     "data": {
      "text/plain": [
       "Layer                    1\n",
       "Name                     1\n",
       "GEOID                    1\n",
       "HCSDIAP_2016-2018        0\n",
       "HCSDIAP_2016-2018_moe    0\n",
       "dtype: int64"
      ]
     },
     "execution_count": 7,
     "metadata": {},
     "output_type": "execute_result"
    }
   ],
   "source": [
    "diabetes_rate_df.isna().sum()"
   ]
  },
  {
   "cell_type": "code",
   "execution_count": 8,
   "id": "8ed1c8fb-3d43-447f-8832-42b662dd4ca0",
   "metadata": {},
   "outputs": [
    {
     "data": {
      "text/plain": [
       "Layer                   1\n",
       "Name                    1\n",
       "GEOID                   1\n",
       "HCSOBP_2016-2018        0\n",
       "HCSOBP_2016-2018_moe    0\n",
       "dtype: int64"
      ]
     },
     "execution_count": 8,
     "metadata": {},
     "output_type": "execute_result"
    }
   ],
   "source": [
    "obesity_rate_df.isna().sum()"
   ]
  },
  {
   "cell_type": "code",
   "execution_count": 9,
   "id": "ac60bddb-0743-4e7c-bf3e-619a34f19342",
   "metadata": {},
   "outputs": [
    {
     "data": {
      "text/html": [
       "<div>\n",
       "<style scoped>\n",
       "    .dataframe tbody tr th:only-of-type {\n",
       "        vertical-align: middle;\n",
       "    }\n",
       "\n",
       "    .dataframe tbody tr th {\n",
       "        vertical-align: top;\n",
       "    }\n",
       "\n",
       "    .dataframe thead th {\n",
       "        text-align: right;\n",
       "    }\n",
       "</style>\n",
       "<table border=\"1\" class=\"dataframe\">\n",
       "  <thead>\n",
       "    <tr style=\"text-align: right;\">\n",
       "      <th></th>\n",
       "      <th>Layer</th>\n",
       "      <th>Name</th>\n",
       "      <th>GEOID</th>\n",
       "      <th>HCSDIAP_2016-2018</th>\n",
       "      <th>HCSDIAP_2016-2018_moe</th>\n",
       "    </tr>\n",
       "  </thead>\n",
       "  <tbody>\n",
       "    <tr>\n",
       "      <th>0</th>\n",
       "      <td>NaN</td>\n",
       "      <td>NaN</td>\n",
       "      <td>NaN</td>\n",
       "      <td>Adult diabetes rate (% of adults), 2016-2018</td>\n",
       "      <td>(90% margin of error)</td>\n",
       "    </tr>\n",
       "    <tr>\n",
       "      <th>1</th>\n",
       "      <td>Community area</td>\n",
       "      <td>Rogers Park</td>\n",
       "      <td>1.0</td>\n",
       "      <td>11.2</td>\n",
       "      <td>4.741964285345</td>\n",
       "    </tr>\n",
       "    <tr>\n",
       "      <th>2</th>\n",
       "      <td>Community area</td>\n",
       "      <td>Norwood Park</td>\n",
       "      <td>10.0</td>\n",
       "      <td>9.3</td>\n",
       "      <td>4.8678571420850005</td>\n",
       "    </tr>\n",
       "    <tr>\n",
       "      <th>3</th>\n",
       "      <td>Community area</td>\n",
       "      <td>Jefferson Park</td>\n",
       "      <td>11.0</td>\n",
       "      <td>9.8</td>\n",
       "      <td>7.30178571395</td>\n",
       "    </tr>\n",
       "    <tr>\n",
       "      <th>4</th>\n",
       "      <td>Community area</td>\n",
       "      <td>North Park</td>\n",
       "      <td>13.0</td>\n",
       "      <td>17.3</td>\n",
       "      <td>10.994642856505001</td>\n",
       "    </tr>\n",
       "  </tbody>\n",
       "</table>\n",
       "</div>"
      ],
      "text/plain": [
       "            Layer            Name  GEOID  \\\n",
       "0             NaN             NaN    NaN   \n",
       "1  Community area     Rogers Park    1.0   \n",
       "2  Community area    Norwood Park   10.0   \n",
       "3  Community area  Jefferson Park   11.0   \n",
       "4  Community area      North Park   13.0   \n",
       "\n",
       "                              HCSDIAP_2016-2018  HCSDIAP_2016-2018_moe  \n",
       "0  Adult diabetes rate (% of adults), 2016-2018  (90% margin of error)  \n",
       "1                                          11.2         4.741964285345  \n",
       "2                                           9.3     4.8678571420850005  \n",
       "3                                           9.8          7.30178571395  \n",
       "4                                          17.3     10.994642856505001  "
      ]
     },
     "execution_count": 9,
     "metadata": {},
     "output_type": "execute_result"
    }
   ],
   "source": [
    "diabetes_rate_df.head()"
   ]
  },
  {
   "cell_type": "markdown",
   "id": "020ce905-fb20-4234-90b8-7b0defdef985",
   "metadata": {},
   "source": [
    "The reason the data has nulls is because some of the header took two rows. Let's drop that extra row."
   ]
  },
  {
   "cell_type": "code",
   "execution_count": 10,
   "id": "30c6b53a-48e2-4b82-96ed-29721db0a58e",
   "metadata": {},
   "outputs": [],
   "source": [
    "diabetes_rate_df.drop(0, inplace = True)"
   ]
  },
  {
   "cell_type": "code",
   "execution_count": 11,
   "id": "27c77b7d-ad4e-438e-979f-f7809838e0de",
   "metadata": {},
   "outputs": [
    {
     "data": {
      "text/plain": [
       "Layer                     object\n",
       "Name                      object\n",
       "GEOID                    float64\n",
       "HCSDIAP_2016-2018         object\n",
       "HCSDIAP_2016-2018_moe     object\n",
       "dtype: object"
      ]
     },
     "execution_count": 11,
     "metadata": {},
     "output_type": "execute_result"
    }
   ],
   "source": [
    "diabetes_rate_df.dtypes"
   ]
  },
  {
   "cell_type": "code",
   "execution_count": 12,
   "id": "4b7ca34d-77f8-493d-889a-530cc1c4f496",
   "metadata": {},
   "outputs": [],
   "source": [
    "obesity_rate_df.drop(0, inplace=True)"
   ]
  },
  {
   "cell_type": "code",
   "execution_count": 13,
   "id": "62ba3001-68ed-4a50-a4a0-a16c9d97f4c3",
   "metadata": {},
   "outputs": [
    {
     "data": {
      "text/plain": [
       "Layer                    object\n",
       "Name                     object\n",
       "GEOID                   float64\n",
       "HCSOBP_2016-2018         object\n",
       "HCSOBP_2016-2018_moe     object\n",
       "dtype: object"
      ]
     },
     "execution_count": 13,
     "metadata": {},
     "output_type": "execute_result"
    }
   ],
   "source": [
    "obesity_rate_df.dtypes"
   ]
  },
  {
   "cell_type": "code",
   "execution_count": 14,
   "id": "d5b1e6e9-a207-4008-8150-099711e9dd4b",
   "metadata": {},
   "outputs": [],
   "source": [
    "# Convert GEOID to int.  This will be necessary later when merging data.\n",
    "def float_to_int(num):\n",
    "    return int(num)\n",
    "\n",
    "diabetes_rate_df['GEOID'] = diabetes_rate_df['GEOID'].apply(float_to_int)\n",
    "obesity_rate_df['GEOID'] = obesity_rate_df['GEOID'].apply(float_to_int)"
   ]
  },
  {
   "cell_type": "code",
   "execution_count": 15,
   "id": "7fadb90a-1f02-44bd-8865-7fb78aaab209",
   "metadata": {},
   "outputs": [],
   "source": [
    "# Convert the rows that should be numeric but were not coded as such because of the extra header to float.\n",
    "diabetes_rate_df['HCSDIAP_2016-2018'] = diabetes_rate_df['HCSDIAP_2016-2018'].apply(ct.convert_to_float)\n",
    "diabetes_rate_df['HCSDIAP_2016-2018_moe'] = diabetes_rate_df['HCSDIAP_2016-2018_moe'].apply(ct.convert_to_float)\n",
    "obesity_rate_df['HCSOBP_2016-2018'] = obesity_rate_df['HCSOBP_2016-2018'].apply(ct.convert_to_float)\n",
    "obesity_rate_df['HCSOBP_2016-2018_moe'] = obesity_rate_df['HCSOBP_2016-2018_moe'].apply(ct.convert_to_float)"
   ]
  },
  {
   "cell_type": "markdown",
   "id": "ed686dbc-2b96-4672-8602-71cdc7c110a5",
   "metadata": {
    "tags": []
   },
   "source": [
    "### Section B: Merging Health Data with census_to_community ###\n",
    "\n",
    "This process allows us to map health data for each community area to the individual census tracts within the community."
   ]
  },
  {
   "cell_type": "code",
   "execution_count": 16,
   "id": "2a4861dd-86d7-4224-86e6-2d8a454f7a0a",
   "metadata": {},
   "outputs": [
    {
     "data": {
      "text/plain": [
       "77"
      ]
     },
     "execution_count": 16,
     "metadata": {},
     "output_type": "execute_result"
    }
   ],
   "source": [
    "diabetes_rate_df['GEOID'].max()"
   ]
  },
  {
   "cell_type": "code",
   "execution_count": 17,
   "id": "a2663414-2f56-4739-a60e-ef71d439ead4",
   "metadata": {},
   "outputs": [
    {
     "data": {
      "text/plain": [
       "77"
      ]
     },
     "execution_count": 17,
     "metadata": {},
     "output_type": "execute_result"
    }
   ],
   "source": [
    "obesity_rate_df['GEOID'].max()"
   ]
  },
  {
   "cell_type": "code",
   "execution_count": 18,
   "id": "f87d1012-701f-45ac-81a7-ef963c921b39",
   "metadata": {},
   "outputs": [
    {
     "data": {
      "text/plain": [
       "77"
      ]
     },
     "execution_count": 18,
     "metadata": {},
     "output_type": "execute_result"
    }
   ],
   "source": [
    "census_to_community['Community Area'].max()"
   ]
  },
  {
   "cell_type": "markdown",
   "id": "3b475f62-2c91-41d0-aa72-67590e847455",
   "metadata": {},
   "source": [
    "GEOID in the health data corresponds with community area in the census to community conversion table. Both contain values up to 77. However, the health data does not include every census tract that is in food_data.csv.\n",
    "\n",
    "Before merging, we confirm no nulls."
   ]
  },
  {
   "cell_type": "code",
   "execution_count": 19,
   "id": "d1dde249-6e03-4a5e-8d02-8b3afa513ba4",
   "metadata": {},
   "outputs": [
    {
     "data": {
      "text/plain": [
       "Tract             0\n",
       "Label             0\n",
       "Community Area    0\n",
       "dtype: int64"
      ]
     },
     "execution_count": 19,
     "metadata": {},
     "output_type": "execute_result"
    }
   ],
   "source": [
    "census_to_community.isna().sum()"
   ]
  },
  {
   "cell_type": "code",
   "execution_count": 20,
   "id": "b590d970-db0d-405f-bc8f-668e585845b7",
   "metadata": {},
   "outputs": [
    {
     "data": {
      "text/plain": [
       "Layer                   0\n",
       "Name                    0\n",
       "GEOID                   0\n",
       "HCSOBP_2016-2018        0\n",
       "HCSOBP_2016-2018_moe    0\n",
       "dtype: int64"
      ]
     },
     "execution_count": 20,
     "metadata": {},
     "output_type": "execute_result"
    }
   ],
   "source": [
    "obesity_rate_df.isna().sum()"
   ]
  },
  {
   "cell_type": "code",
   "execution_count": 21,
   "id": "3e090905-a6b3-400d-8f43-3c6ae1505f28",
   "metadata": {},
   "outputs": [
    {
     "data": {
      "text/plain": [
       "Layer                    0\n",
       "Name                     0\n",
       "GEOID                    0\n",
       "HCSDIAP_2016-2018        0\n",
       "HCSDIAP_2016-2018_moe    0\n",
       "dtype: int64"
      ]
     },
     "execution_count": 21,
     "metadata": {},
     "output_type": "execute_result"
    }
   ],
   "source": [
    "diabetes_rate_df.isna().sum()"
   ]
  },
  {
   "cell_type": "code",
   "execution_count": 22,
   "id": "be864e24-e260-4629-96c0-a780396eb817",
   "metadata": {},
   "outputs": [],
   "source": [
    "diabetes_rate_df.rename({'GEOID': 'Community Area'}, axis=1, inplace=True)\n",
    "obesity_rate_df.rename({'GEOID': 'Community Area'}, axis=1, inplace=True)\n",
    "diabetes_rate_by_census_df = pd.merge(left=census_to_community, right=diabetes_rate_df, how='left', on='Community Area')\n",
    "obesity_rate_by_census_df = pd.merge(left=census_to_community, right=obesity_rate_df, how='left', on='Community Area')"
   ]
  },
  {
   "cell_type": "code",
   "execution_count": 23,
   "id": "43d5cc47-b2ca-4bfb-83cd-ea8ac3b69ea2",
   "metadata": {},
   "outputs": [
    {
     "data": {
      "text/plain": [
       "Tract                     0\n",
       "Label                     0\n",
       "Community Area            0\n",
       "Layer                    63\n",
       "Name                     63\n",
       "HCSDIAP_2016-2018        63\n",
       "HCSDIAP_2016-2018_moe    63\n",
       "dtype: int64"
      ]
     },
     "execution_count": 23,
     "metadata": {},
     "output_type": "execute_result"
    }
   ],
   "source": [
    "diabetes_rate_by_census_df.isna().sum()"
   ]
  },
  {
   "cell_type": "code",
   "execution_count": 24,
   "id": "4bd13f7e-24cd-4c1e-8a60-a43c64cdcd41",
   "metadata": {},
   "outputs": [
    {
     "data": {
      "text/plain": [
       "Tract                   0\n",
       "Label                   0\n",
       "Community Area          0\n",
       "Layer                   8\n",
       "Name                    8\n",
       "HCSOBP_2016-2018        8\n",
       "HCSOBP_2016-2018_moe    8\n",
       "dtype: int64"
      ]
     },
     "execution_count": 24,
     "metadata": {},
     "output_type": "execute_result"
    }
   ],
   "source": [
    "obesity_rate_by_census_df.isna().sum()"
   ]
  },
  {
   "cell_type": "markdown",
   "id": "669645c3-8a24-419f-939f-699572cb2af3",
   "metadata": {},
   "source": [
    "The missing health data results in null values for some census tracts.  These tracts need to be dropped from the respective data frames."
   ]
  },
  {
   "cell_type": "code",
   "execution_count": 25,
   "id": "587e1e69-d941-4a34-97d4-a47eebe9ef9d",
   "metadata": {},
   "outputs": [
    {
     "data": {
      "text/html": [
       "<div>\n",
       "<style scoped>\n",
       "    .dataframe tbody tr th:only-of-type {\n",
       "        vertical-align: middle;\n",
       "    }\n",
       "\n",
       "    .dataframe tbody tr th {\n",
       "        vertical-align: top;\n",
       "    }\n",
       "\n",
       "    .dataframe thead th {\n",
       "        text-align: right;\n",
       "    }\n",
       "</style>\n",
       "<table border=\"1\" class=\"dataframe\">\n",
       "  <thead>\n",
       "    <tr style=\"text-align: right;\">\n",
       "      <th></th>\n",
       "      <th>Tract</th>\n",
       "      <th>Label</th>\n",
       "      <th>Community Area</th>\n",
       "      <th>Layer</th>\n",
       "      <th>Name</th>\n",
       "      <th>HCSDIAP_2016-2018</th>\n",
       "      <th>HCSDIAP_2016-2018_moe</th>\n",
       "    </tr>\n",
       "  </thead>\n",
       "  <tbody>\n",
       "    <tr>\n",
       "      <th>143</th>\n",
       "      <td>17031090100</td>\n",
       "      <td>Census Tract 901, Cook County, Illinois</td>\n",
       "      <td>9</td>\n",
       "      <td>NaN</td>\n",
       "      <td>NaN</td>\n",
       "      <td>NaN</td>\n",
       "      <td>NaN</td>\n",
       "    </tr>\n",
       "    <tr>\n",
       "      <th>144</th>\n",
       "      <td>17031090200</td>\n",
       "      <td>Census Tract 902, Cook County, Illinois</td>\n",
       "      <td>9</td>\n",
       "      <td>NaN</td>\n",
       "      <td>NaN</td>\n",
       "      <td>NaN</td>\n",
       "      <td>NaN</td>\n",
       "    </tr>\n",
       "    <tr>\n",
       "      <th>145</th>\n",
       "      <td>17031090300</td>\n",
       "      <td>Census Tract 903, Cook County, Illinois</td>\n",
       "      <td>9</td>\n",
       "      <td>NaN</td>\n",
       "      <td>NaN</td>\n",
       "      <td>NaN</td>\n",
       "      <td>NaN</td>\n",
       "    </tr>\n",
       "    <tr>\n",
       "      <th>159</th>\n",
       "      <td>17031120100</td>\n",
       "      <td>Census Tract 1201, Cook County, Illinois</td>\n",
       "      <td>12</td>\n",
       "      <td>NaN</td>\n",
       "      <td>NaN</td>\n",
       "      <td>NaN</td>\n",
       "      <td>NaN</td>\n",
       "    </tr>\n",
       "    <tr>\n",
       "      <th>160</th>\n",
       "      <td>17031120200</td>\n",
       "      <td>Census Tract 1202, Cook County, Illinois</td>\n",
       "      <td>12</td>\n",
       "      <td>NaN</td>\n",
       "      <td>NaN</td>\n",
       "      <td>NaN</td>\n",
       "      <td>NaN</td>\n",
       "    </tr>\n",
       "  </tbody>\n",
       "</table>\n",
       "</div>"
      ],
      "text/plain": [
       "           Tract                                     Label  Community Area  \\\n",
       "143  17031090100   Census Tract 901, Cook County, Illinois               9   \n",
       "144  17031090200   Census Tract 902, Cook County, Illinois               9   \n",
       "145  17031090300   Census Tract 903, Cook County, Illinois               9   \n",
       "159  17031120100  Census Tract 1201, Cook County, Illinois              12   \n",
       "160  17031120200  Census Tract 1202, Cook County, Illinois              12   \n",
       "\n",
       "    Layer Name  HCSDIAP_2016-2018  HCSDIAP_2016-2018_moe  \n",
       "143   NaN  NaN                NaN                    NaN  \n",
       "144   NaN  NaN                NaN                    NaN  \n",
       "145   NaN  NaN                NaN                    NaN  \n",
       "159   NaN  NaN                NaN                    NaN  \n",
       "160   NaN  NaN                NaN                    NaN  "
      ]
     },
     "execution_count": 25,
     "metadata": {},
     "output_type": "execute_result"
    }
   ],
   "source": [
    "diabetes_rate_by_census_df[diabetes_rate_by_census_df['HCSDIAP_2016-2018'].isna()].head()"
   ]
  },
  {
   "cell_type": "code",
   "execution_count": 26,
   "id": "ee507672-da61-4cc3-a45a-e96281d79403",
   "metadata": {},
   "outputs": [],
   "source": [
    "diabetes_rate_by_census_df.dropna(inplace=True)\n",
    "obesity_rate_by_census_df.dropna(inplace=True)"
   ]
  },
  {
   "cell_type": "code",
   "execution_count": 27,
   "id": "d8ab061b-dcd8-4de2-8be0-5f6c28608daf",
   "metadata": {},
   "outputs": [
    {
     "data": {
      "text/plain": [
       "Index(['Tract', 'Label', 'Community Area', 'Layer', 'Name', 'HCSOBP_2016-2018',\n",
       "       'HCSOBP_2016-2018_moe'],\n",
       "      dtype='object')"
      ]
     },
     "execution_count": 27,
     "metadata": {},
     "output_type": "execute_result"
    }
   ],
   "source": [
    "obesity_rate_by_census_df.columns"
   ]
  },
  {
   "cell_type": "code",
   "execution_count": 28,
   "id": "0db21949-6a75-4d57-8c10-5230200fd870",
   "metadata": {},
   "outputs": [
    {
     "data": {
      "text/plain": [
       "Index(['Tract', 'Label', 'Community Area', 'Layer', 'Name',\n",
       "       'HCSDIAP_2016-2018', 'HCSDIAP_2016-2018_moe'],\n",
       "      dtype='object')"
      ]
     },
     "execution_count": 28,
     "metadata": {},
     "output_type": "execute_result"
    }
   ],
   "source": [
    "diabetes_rate_by_census_df.columns"
   ]
  },
  {
   "cell_type": "markdown",
   "id": "346d8207-8c06-40cd-be09-a3ca9a807960",
   "metadata": {},
   "source": [
    "Label, Layer, and Name provide basic information not useful for modelling.  Although margin of error is useful information, it is not appropriate for modelling."
   ]
  },
  {
   "cell_type": "code",
   "execution_count": 29,
   "id": "8c324bf1-3f5e-4e46-9c49-1d623022964b",
   "metadata": {},
   "outputs": [],
   "source": [
    "obesity_rate_by_census_df.drop(columns=['Label', 'Layer', 'Name', 'HCSOBP_2016-2018_moe'], inplace=True)\n",
    "diabetes_rate_by_census_df.drop(columns=['Label', 'Layer', 'Name', 'HCSDIAP_2016-2018_moe'], inplace=True)"
   ]
  },
  {
   "cell_type": "markdown",
   "id": "8af0514a-fb84-49c1-a756-3e221ef8a93b",
   "metadata": {},
   "source": [
    "### Section C: Cleaning Food Access Data ###"
   ]
  },
  {
   "cell_type": "code",
   "execution_count": 30,
   "id": "1005665b-589e-463a-84d8-282e4e6be666",
   "metadata": {},
   "outputs": [],
   "source": [
    "# Custom function creates a dataframe with information about the NULLs and datatypes of each column.\n",
    "food_info = ct.info_frame(food_data)"
   ]
  },
  {
   "cell_type": "code",
   "execution_count": 31,
   "id": "cc59a386-c329-4f5e-ad83-0414b2d68224",
   "metadata": {},
   "outputs": [
    {
     "data": {
      "text/html": [
       "<div>\n",
       "<style scoped>\n",
       "    .dataframe tbody tr th:only-of-type {\n",
       "        vertical-align: middle;\n",
       "    }\n",
       "\n",
       "    .dataframe tbody tr th {\n",
       "        vertical-align: top;\n",
       "    }\n",
       "\n",
       "    .dataframe thead th {\n",
       "        text-align: right;\n",
       "    }\n",
       "</style>\n",
       "<table border=\"1\" class=\"dataframe\">\n",
       "  <thead>\n",
       "    <tr style=\"text-align: right;\">\n",
       "      <th></th>\n",
       "      <th>name</th>\n",
       "      <th>type</th>\n",
       "      <th>num_nans</th>\n",
       "    </tr>\n",
       "  </thead>\n",
       "  <tbody>\n",
       "    <tr>\n",
       "      <th>133</th>\n",
       "      <td>lahunv20share</td>\n",
       "      <td>float64</td>\n",
       "      <td>1314</td>\n",
       "    </tr>\n",
       "    <tr>\n",
       "      <th>94</th>\n",
       "      <td>lablack10</td>\n",
       "      <td>float64</td>\n",
       "      <td>1314</td>\n",
       "    </tr>\n",
       "    <tr>\n",
       "      <th>106</th>\n",
       "      <td>lahunv10</td>\n",
       "      <td>float64</td>\n",
       "      <td>1314</td>\n",
       "    </tr>\n",
       "    <tr>\n",
       "      <th>105</th>\n",
       "      <td>lahisp10share</td>\n",
       "      <td>float64</td>\n",
       "      <td>1314</td>\n",
       "    </tr>\n",
       "    <tr>\n",
       "      <th>103</th>\n",
       "      <td>laomultir10share</td>\n",
       "      <td>float64</td>\n",
       "      <td>1314</td>\n",
       "    </tr>\n",
       "  </tbody>\n",
       "</table>\n",
       "</div>"
      ],
      "text/plain": [
       "                 name     type  num_nans\n",
       "133     lahunv20share  float64      1314\n",
       "94          lablack10  float64      1314\n",
       "106          lahunv10  float64      1314\n",
       "105     lahisp10share  float64      1314\n",
       "103  laomultir10share  float64      1314"
      ]
     },
     "execution_count": 31,
     "metadata": {},
     "output_type": "execute_result"
    }
   ],
   "source": [
    "food_info.sort_values(by='num_nans', ascending=False).head()"
   ]
  },
  {
   "cell_type": "code",
   "execution_count": 32,
   "id": "a6150061-08a5-4e5f-aefa-5ea97c0e4172",
   "metadata": {},
   "outputs": [
    {
     "data": {
      "text/plain": [
       "52"
      ]
     },
     "execution_count": 32,
     "metadata": {},
     "output_type": "execute_result"
    }
   ],
   "source": [
    "len(food_info[food_info['num_nans'] == 1314])"
   ]
  },
  {
   "cell_type": "code",
   "execution_count": 33,
   "id": "94b1e06e-370b-4a50-a1bb-4145ad705d75",
   "metadata": {},
   "outputs": [
    {
     "data": {
      "text/plain": [
       "49"
      ]
     },
     "execution_count": 33,
     "metadata": {},
     "output_type": "execute_result"
    }
   ],
   "source": [
    "len(food_info[food_info['num_nans'] == 0])"
   ]
  },
  {
   "cell_type": "markdown",
   "id": "11919fd8-3e59-412f-a19e-d03d1485d518",
   "metadata": {},
   "source": [
    "This data has quite a few NULL values.  These values are actually coded as NULL in the original csv, suggeting that they are missing information or irrelevant for the selected census tract.  52 of the 160 columns are entirely NULL.  A total of 49 columns in this table have no NULL values at all."
   ]
  },
  {
   "cell_type": "code",
   "execution_count": 34,
   "id": "ad85209c-5c12-4836-b51d-f80b0230d3de",
   "metadata": {},
   "outputs": [],
   "source": [
    "null_cols = [food_info.loc[col]['name'] for col in food_info.index if food_info.loc[col]['num_nans'] == 1314]"
   ]
  },
  {
   "cell_type": "code",
   "execution_count": 35,
   "id": "c58a8bea-5e9e-4521-8782-19466ca76f7b",
   "metadata": {},
   "outputs": [],
   "source": [
    "# Drop the columns that have only NULL values, as well as Unnamed: 0\n",
    "food_data.drop(columns=null_cols, inplace=True)\n",
    "food_data.drop(columns='Unnamed: 0', inplace=True)"
   ]
  },
  {
   "cell_type": "code",
   "execution_count": 36,
   "id": "65939d17-d1d1-4fbb-bbb4-c21a21f8f432",
   "metadata": {},
   "outputs": [
    {
     "data": {
      "text/plain": [
       "(1314, 107)"
      ]
     },
     "execution_count": 36,
     "metadata": {},
     "output_type": "execute_result"
    }
   ],
   "source": [
    "food_data.shape"
   ]
  },
  {
   "cell_type": "code",
   "execution_count": 37,
   "id": "20ccfe13-c69b-4b87-b5bd-41c3933b2f92",
   "metadata": {},
   "outputs": [],
   "source": [
    "food_info = ct.info_frame(food_data)"
   ]
  },
  {
   "cell_type": "code",
   "execution_count": 38,
   "id": "3f356ef5-8962-47ea-9dff-ab2a0d212b9d",
   "metadata": {},
   "outputs": [
    {
     "data": {
      "text/html": [
       "<div>\n",
       "<style scoped>\n",
       "    .dataframe tbody tr th:only-of-type {\n",
       "        vertical-align: middle;\n",
       "    }\n",
       "\n",
       "    .dataframe tbody tr th {\n",
       "        vertical-align: top;\n",
       "    }\n",
       "\n",
       "    .dataframe thead th {\n",
       "        text-align: right;\n",
       "    }\n",
       "</style>\n",
       "<table border=\"1\" class=\"dataframe\">\n",
       "  <thead>\n",
       "    <tr style=\"text-align: right;\">\n",
       "      <th></th>\n",
       "      <th>name</th>\n",
       "      <th>type</th>\n",
       "      <th>num_nans</th>\n",
       "    </tr>\n",
       "  </thead>\n",
       "  <tbody>\n",
       "    <tr>\n",
       "      <th>30</th>\n",
       "      <td>LALOWI1_20</td>\n",
       "      <td>float64</td>\n",
       "      <td>974</td>\n",
       "    </tr>\n",
       "    <tr>\n",
       "      <th>28</th>\n",
       "      <td>LALOWI1_10</td>\n",
       "      <td>float64</td>\n",
       "      <td>974</td>\n",
       "    </tr>\n",
       "    <tr>\n",
       "      <th>27</th>\n",
       "      <td>LAPOP1_20</td>\n",
       "      <td>float64</td>\n",
       "      <td>974</td>\n",
       "    </tr>\n",
       "    <tr>\n",
       "      <th>25</th>\n",
       "      <td>LAPOP1_10</td>\n",
       "      <td>float64</td>\n",
       "      <td>974</td>\n",
       "    </tr>\n",
       "    <tr>\n",
       "      <th>81</th>\n",
       "      <td>lasnap1</td>\n",
       "      <td>float64</td>\n",
       "      <td>972</td>\n",
       "    </tr>\n",
       "  </tbody>\n",
       "</table>\n",
       "</div>"
      ],
      "text/plain": [
       "          name     type  num_nans\n",
       "30  LALOWI1_20  float64       974\n",
       "28  LALOWI1_10  float64       974\n",
       "27   LAPOP1_20  float64       974\n",
       "25   LAPOP1_10  float64       974\n",
       "81     lasnap1  float64       972"
      ]
     },
     "execution_count": 38,
     "metadata": {},
     "output_type": "execute_result"
    }
   ],
   "source": [
    "food_info.sort_values(by='num_nans', ascending=False).head()"
   ]
  },
  {
   "cell_type": "code",
   "execution_count": 39,
   "id": "fa6b5022-f26a-47aa-9eea-1d7c572e363f",
   "metadata": {},
   "outputs": [
    {
     "data": {
      "text/plain": [
       "0.0       48\n",
       "3.0        4\n",
       "1.0        4\n",
       "4.0        4\n",
       "2186.0     3\n",
       "          ..\n",
       "3149.0     1\n",
       "2424.0     1\n",
       "57.0       1\n",
       "2985.0     1\n",
       "1101.0     1\n",
       "Name: LAPOP05_10, Length: 799, dtype: int64"
      ]
     },
     "execution_count": 39,
     "metadata": {},
     "output_type": "execute_result"
    }
   ],
   "source": [
    "food_data['LAPOP05_10'].value_counts()"
   ]
  },
  {
   "cell_type": "markdown",
   "id": "37495c36-da29-4a83-ac5b-c5fce39e456c",
   "metadata": {},
   "source": [
    "At least some columns with NULL values also have some 0 values, so it's reasonable to assume that NULL does not mean 0.  It's also reasonable to assume that it doesn't indicate the feature is somehow irrelevant for a given census tract, as these correspond to values such as the portion of low-access, low-income population at certain distances from a supermarket.  Since no further information is provided about these NULL values, it seems most likely that the data was not available.\n",
    "\n",
    "Since NULL values will be problematic for any method of food desert identification, and we want to include every census tract possible in our analysis, let's examine the features that have no NULL values at all.  These features alone may provide enough information for our analysis."
   ]
  },
  {
   "cell_type": "code",
   "execution_count": 40,
   "id": "acc41c2c-f585-4a74-b45e-57111eb9a6e2",
   "metadata": {},
   "outputs": [],
   "source": [
    "food_non_null_cols = [food_info.loc[col]['name'] for col in food_info.index if food_info.loc[col]['num_nans'] == 0]"
   ]
  },
  {
   "cell_type": "code",
   "execution_count": 41,
   "id": "81050aba-ff10-48da-be65-236b9908d3e5",
   "metadata": {},
   "outputs": [],
   "source": [
    "food_non_null = food_data[food_non_null_cols].copy()"
   ]
  },
  {
   "cell_type": "code",
   "execution_count": 42,
   "id": "47d2cb22-cbcb-4950-b6fb-a7950f4bebef",
   "metadata": {},
   "outputs": [
    {
     "data": {
      "text/plain": [
       "Index(['CensusTract', 'State', 'County', 'Urban', 'Pop2010', 'OHU2010',\n",
       "       'GroupQuartersFlag', 'NUMGQTRS', 'PCTGQTRS', 'LILATracts_1And10',\n",
       "       'LILATracts_halfAnd10', 'LILATracts_1And20', 'LILATracts_Vehicle',\n",
       "       'HUNVFlag', 'LowIncomeTracts', 'PovertyRate', 'LA1and10', 'LAhalfand10',\n",
       "       'LA1and20', 'LATracts_half', 'LATracts1', 'LATracts10', 'LATracts20',\n",
       "       'LATractsVehicle_20', 'TractLOWI', 'TractKids', 'TractSeniors',\n",
       "       'TractWhite', 'TractBlack', 'TractAsian', 'TractNHOPI', 'TractAIAN',\n",
       "       'TractOMultir', 'TractHispanic', 'TractHUNV', 'TractSNAP', 'STATEFP10',\n",
       "       'COUNTYFP10', 'TRACTCE10', 'GEOID10', 'NAME10', 'NAMELSAD10', 'MTFCC10',\n",
       "       'FUNCSTAT10', 'ALAND10', 'AWATER10', 'INTPTLAT10', 'INTPTLON10'],\n",
       "      dtype='object')"
      ]
     },
     "execution_count": 42,
     "metadata": {},
     "output_type": "execute_result"
    }
   ],
   "source": [
    "food_non_null.columns"
   ]
  },
  {
   "cell_type": "markdown",
   "id": "84720422-3298-48bf-b821-a09639760383",
   "metadata": {},
   "source": [
    "Some of these columns are from the census tract data set and have to do with the locations of the census tracts.  These will not be used here, because we already have information about food access.  The location data will be used in other aspects of the analysis."
   ]
  },
  {
   "cell_type": "code",
   "execution_count": 43,
   "id": "c2142e20-6802-44d4-89e9-53cfce6ebcde",
   "metadata": {},
   "outputs": [],
   "source": [
    "food_non_null.drop(columns=['STATEFP10', 'COUNTYFP10', 'TRACTCE10', 'GEOID10', 'NAME10', 'NAMELSAD10', 'MTFCC10',\n",
    "       'FUNCSTAT10', 'ALAND10', 'AWATER10', 'INTPTLAT10', 'INTPTLON10'], inplace=True)"
   ]
  },
  {
   "cell_type": "code",
   "execution_count": 44,
   "id": "8b194ec1-e0d5-44cf-920e-8beddff0006e",
   "metadata": {},
   "outputs": [
    {
     "data": {
      "text/plain": [
       "State     County       Urban\n",
       "Illinois  Cook County  1        1312\n",
       "                       0           2\n",
       "dtype: int64"
      ]
     },
     "execution_count": 44,
     "metadata": {},
     "output_type": "execute_result"
    }
   ],
   "source": [
    "food_non_null[['State', 'County', 'Urban']].value_counts()"
   ]
  },
  {
   "cell_type": "code",
   "execution_count": 45,
   "id": "f616d0ed-543e-4ae1-8e0d-331e24817cec",
   "metadata": {},
   "outputs": [
    {
     "data": {
      "text/html": [
       "<div>\n",
       "<style scoped>\n",
       "    .dataframe tbody tr th:only-of-type {\n",
       "        vertical-align: middle;\n",
       "    }\n",
       "\n",
       "    .dataframe tbody tr th {\n",
       "        vertical-align: top;\n",
       "    }\n",
       "\n",
       "    .dataframe thead th {\n",
       "        text-align: right;\n",
       "    }\n",
       "</style>\n",
       "<table border=\"1\" class=\"dataframe\">\n",
       "  <thead>\n",
       "    <tr style=\"text-align: right;\">\n",
       "      <th></th>\n",
       "      <th>CensusTract</th>\n",
       "      <th>State</th>\n",
       "      <th>County</th>\n",
       "      <th>Urban</th>\n",
       "      <th>Pop2010</th>\n",
       "      <th>OHU2010</th>\n",
       "      <th>GroupQuartersFlag</th>\n",
       "      <th>NUMGQTRS</th>\n",
       "      <th>PCTGQTRS</th>\n",
       "      <th>LILATracts_1And10</th>\n",
       "      <th>...</th>\n",
       "      <th>TractSeniors</th>\n",
       "      <th>TractWhite</th>\n",
       "      <th>TractBlack</th>\n",
       "      <th>TractAsian</th>\n",
       "      <th>TractNHOPI</th>\n",
       "      <th>TractAIAN</th>\n",
       "      <th>TractOMultir</th>\n",
       "      <th>TractHispanic</th>\n",
       "      <th>TractHUNV</th>\n",
       "      <th>TractSNAP</th>\n",
       "    </tr>\n",
       "  </thead>\n",
       "  <tbody>\n",
       "    <tr>\n",
       "      <th>1080</th>\n",
       "      <td>17031823801</td>\n",
       "      <td>Illinois</td>\n",
       "      <td>Cook County</td>\n",
       "      <td>0</td>\n",
       "      <td>5716</td>\n",
       "      <td>2254</td>\n",
       "      <td>0</td>\n",
       "      <td>11.0</td>\n",
       "      <td>0.19</td>\n",
       "      <td>0</td>\n",
       "      <td>...</td>\n",
       "      <td>1223.0</td>\n",
       "      <td>5355.0</td>\n",
       "      <td>30.0</td>\n",
       "      <td>196.0</td>\n",
       "      <td>2.0</td>\n",
       "      <td>6.0</td>\n",
       "      <td>127.0</td>\n",
       "      <td>305.0</td>\n",
       "      <td>253.0</td>\n",
       "      <td>21.0</td>\n",
       "    </tr>\n",
       "    <tr>\n",
       "      <th>1169</th>\n",
       "      <td>17031828503</td>\n",
       "      <td>Illinois</td>\n",
       "      <td>Cook County</td>\n",
       "      <td>0</td>\n",
       "      <td>4627</td>\n",
       "      <td>1477</td>\n",
       "      <td>0</td>\n",
       "      <td>20.0</td>\n",
       "      <td>0.43</td>\n",
       "      <td>0</td>\n",
       "      <td>...</td>\n",
       "      <td>388.0</td>\n",
       "      <td>1352.0</td>\n",
       "      <td>2835.0</td>\n",
       "      <td>12.0</td>\n",
       "      <td>1.0</td>\n",
       "      <td>14.0</td>\n",
       "      <td>413.0</td>\n",
       "      <td>559.0</td>\n",
       "      <td>79.0</td>\n",
       "      <td>433.0</td>\n",
       "    </tr>\n",
       "  </tbody>\n",
       "</table>\n",
       "<p>2 rows × 36 columns</p>\n",
       "</div>"
      ],
      "text/plain": [
       "      CensusTract     State       County  Urban  Pop2010  OHU2010  \\\n",
       "1080  17031823801  Illinois  Cook County      0     5716     2254   \n",
       "1169  17031828503  Illinois  Cook County      0     4627     1477   \n",
       "\n",
       "      GroupQuartersFlag  NUMGQTRS  PCTGQTRS  LILATracts_1And10  ...  \\\n",
       "1080                  0      11.0      0.19                  0  ...   \n",
       "1169                  0      20.0      0.43                  0  ...   \n",
       "\n",
       "      TractSeniors  TractWhite  TractBlack  TractAsian  TractNHOPI  TractAIAN  \\\n",
       "1080        1223.0      5355.0        30.0       196.0         2.0        6.0   \n",
       "1169         388.0      1352.0      2835.0        12.0         1.0       14.0   \n",
       "\n",
       "      TractOMultir  TractHispanic  TractHUNV  TractSNAP  \n",
       "1080         127.0          305.0      253.0       21.0  \n",
       "1169         413.0          559.0       79.0      433.0  \n",
       "\n",
       "[2 rows x 36 columns]"
      ]
     },
     "execution_count": 45,
     "metadata": {},
     "output_type": "execute_result"
    }
   ],
   "source": [
    "food_non_null[food_non_null['Urban'] == 0]"
   ]
  },
  {
   "cell_type": "code",
   "execution_count": 46,
   "id": "06be78e7-0187-4534-9691-83b686ae2bcb",
   "metadata": {},
   "outputs": [
    {
     "data": {
      "text/plain": [
       "False"
      ]
     },
     "execution_count": 46,
     "metadata": {},
     "output_type": "execute_result"
    }
   ],
   "source": [
    "17031823801 in list(obesity_rate_by_census_df['Tract'])"
   ]
  },
  {
   "cell_type": "code",
   "execution_count": 47,
   "id": "9409750c-48db-4dd2-9b21-126d3faff0e6",
   "metadata": {},
   "outputs": [
    {
     "data": {
      "text/plain": [
       "False"
      ]
     },
     "execution_count": 47,
     "metadata": {},
     "output_type": "execute_result"
    }
   ],
   "source": [
    "17031828503 in list(obesity_rate_by_census_df['Tract'])"
   ]
  },
  {
   "cell_type": "markdown",
   "id": "620a61e9-4341-402b-a22b-a5a4aed6a748",
   "metadata": {},
   "source": [
    "Only two census tracts are considered rural, and neither is included in the obesity data.  Of course, all have the same state and county."
   ]
  },
  {
   "cell_type": "code",
   "execution_count": 48,
   "id": "2864536a-bdc1-45ae-a5b8-3d21043c29b1",
   "metadata": {},
   "outputs": [],
   "source": [
    "food_non_null.drop(columns=['State', 'County', 'Urban'], inplace=True)"
   ]
  },
  {
   "cell_type": "markdown",
   "id": "ef39c0e4-b0da-4186-bd96-2a453e33ffa5",
   "metadata": {},
   "source": [
    "### Section D: Merge Health Data with Food Access Data and Export files to csv ###"
   ]
  },
  {
   "cell_type": "code",
   "execution_count": 49,
   "id": "2b891265-6c5b-4a80-b8ff-3868332b661b",
   "metadata": {},
   "outputs": [],
   "source": [
    "# The inner merge includes only the census tracts that were included in the community area information.\n",
    "food_non_null.rename(columns={'CensusTract': 'Tract'}, inplace=True)\n",
    "food_obesity = pd.merge(left=food_non_null, right=obesity_rate_by_census_df, how='inner', on='Tract')\n",
    "food_diabetes = pd.merge(left=food_non_null, right=diabetes_rate_by_census_df, how='inner', on='Tract')"
   ]
  },
  {
   "cell_type": "code",
   "execution_count": 50,
   "id": "33b5e8ee-858f-4316-9315-cdca031ad092",
   "metadata": {},
   "outputs": [],
   "source": [
    "food_obesity.to_csv('./data/food_obesity.csv', index=False)\n",
    "food_diabetes.to_csv('./data/food_diabetes.csv', index = False)"
   ]
  }
 ],
 "metadata": {
  "kernelspec": {
   "display_name": "Python 3 (ipykernel)",
   "language": "python",
   "name": "python3"
  },
  "language_info": {
   "codemirror_mode": {
    "name": "ipython",
    "version": 3
   },
   "file_extension": ".py",
   "mimetype": "text/x-python",
   "name": "python",
   "nbconvert_exporter": "python",
   "pygments_lexer": "ipython3",
   "version": "3.8.12"
  }
 },
 "nbformat": 4,
 "nbformat_minor": 5
}
