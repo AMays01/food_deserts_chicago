{
 "cells": [
  {
   "cell_type": "code",
   "execution_count": 1,
   "id": "67619247",
   "metadata": {},
   "outputs": [],
   "source": [
    "import geoplot as gplt\n",
    "import geopandas as gpd\n",
    "import geoplot.crs as gcrs\n",
    "import imageio\n",
    "import folium\n",
    "import requests\n",
    "import pathlib\n",
    "\n",
    "# This resource: https://www.linkedin.com/pulse/geopandas-plotting-data-points-map-using-python-régis-nisengwe/\n",
    "# Helpe me find: https://geopandas.org/en/stable/docs/reference/api/geopandas.GeoSeries.geom_type.html#geopandas.GeoSeries.geom_type\n",
    "from shapely.geometry import Point, Polygon, LineString\n",
    "\n",
    "import pandas as pd\n",
    "import numpy as np\n",
    "import matplotlib.pyplot as plt\n",
    "import mapclassify as mc\n",
    "\n",
    "%matplotlib inline"
   ]
  },
  {
   "cell_type": "code",
   "execution_count": 2,
   "id": "8bd16227",
   "metadata": {},
   "outputs": [],
   "source": [
    "grocery = pd.read_csv('./data/grocery_store_status.csv')\n",
    "census = gpd.read_file('./data/census_tract_2010_cook_county/tl_2010_17031_tract10.shp')"
   ]
  },
  {
   "cell_type": "code",
   "execution_count": 13,
   "id": "5731eb86",
   "metadata": {
    "scrolled": false
   },
   "outputs": [],
   "source": [
    "def to_point(item):\n",
    "    if type(item) == float:\n",
    "        return np.nan\n",
    "    else:\n",
    "        lat_long = item[7:-1].split()\n",
    "        return Point(float(lat_long[0]), float(lat_long[1]))\n",
    "\n",
    "grocery['geometry'] = grocery['Location'].apply(to_point)"
   ]
  },
  {
   "cell_type": "code",
   "execution_count": 15,
   "id": "f21c995c",
   "metadata": {},
   "outputs": [],
   "source": [
    "grocery_geo = gpd.GeoDataFrame(grocery, crs=\"EPSG:4326\")"
   ]
  },
  {
   "cell_type": "code",
   "execution_count": 25,
   "id": "0005ca2d",
   "metadata": {},
   "outputs": [],
   "source": [
    "grocery_geo.dropna(inplace=True)"
   ]
  }
 ],
 "metadata": {
  "kernelspec": {
   "display_name": "Python 3 (ipykernel)",
   "language": "python",
   "name": "python3"
  },
  "language_info": {
   "codemirror_mode": {
    "name": "ipython",
    "version": 3
   },
   "file_extension": ".py",
   "mimetype": "text/x-python",
   "name": "python",
   "nbconvert_exporter": "python",
   "pygments_lexer": "ipython3",
   "version": "3.8.12"
  }
 },
 "nbformat": 4,
 "nbformat_minor": 5
}
