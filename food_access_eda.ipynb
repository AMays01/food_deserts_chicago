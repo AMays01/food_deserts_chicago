{
 "cells": [
  {
   "cell_type": "markdown",
   "id": "1219117d-96d5-4b66-ad78-ea09b16a8410",
   "metadata": {},
   "source": [
    "# This notebook explores the census tract food access data and compares it to community area adult obesity rates #"
   ]
  },
  {
   "cell_type": "code",
   "execution_count": 1,
   "id": "9475d8f5-76b9-4bd2-af2e-742a0958157a",
   "metadata": {},
   "outputs": [],
   "source": [
    "import pandas as pd\n",
    "\n",
    "import cleantools as ct"
   ]
  },
  {
   "cell_type": "code",
   "execution_count": 2,
   "id": "77abd9da-c3f1-43ca-80bf-9f61cd72d488",
   "metadata": {},
   "outputs": [],
   "source": [
    "food_data = pd.read_csv('./data/food_data.csv')\n",
    "obesity_rate_df = pd.read_csv('./data/chicago_health_atlas_adult_obesity_rate.csv')\n",
    "census_to_community = pd.read_csv('./data/chicago_census_tract_to_community_area.csv')"
   ]
  },
  {
   "cell_type": "code",
   "execution_count": 3,
   "id": "5507a00f-cd66-4882-a746-37d48ca17bc6",
   "metadata": {},
   "outputs": [
    {
     "data": {
      "text/plain": [
       "(1314, 160)"
      ]
     },
     "execution_count": 3,
     "metadata": {},
     "output_type": "execute_result"
    }
   ],
   "source": [
    "food_data.shape"
   ]
  },
  {
   "cell_type": "code",
   "execution_count": 4,
   "id": "dfab18fa-ff52-4cef-9357-977fcfac6a7c",
   "metadata": {},
   "outputs": [
    {
     "data": {
      "text/plain": [
       "(75, 5)"
      ]
     },
     "execution_count": 4,
     "metadata": {},
     "output_type": "execute_result"
    }
   ],
   "source": [
    "obesity_rate_df.shape"
   ]
  },
  {
   "cell_type": "code",
   "execution_count": 5,
   "id": "f858bc73-7e00-42c0-aebc-279ada0957af",
   "metadata": {},
   "outputs": [
    {
     "data": {
      "text/plain": [
       "(794, 3)"
      ]
     },
     "execution_count": 5,
     "metadata": {},
     "output_type": "execute_result"
    }
   ],
   "source": [
    "census_to_community.shape"
   ]
  },
  {
   "cell_type": "markdown",
   "id": "7d5044d6-bef7-4a8f-a1a1-00792e5ed836",
   "metadata": {},
   "source": [
    "### Cleaning obesity data and merging with table containing census tract and community area conversion ###"
   ]
  },
  {
   "cell_type": "code",
   "execution_count": 6,
   "id": "dd2a98b6-3314-4c8c-9776-ff1421aa7107",
   "metadata": {},
   "outputs": [
    {
     "data": {
      "text/plain": [
       "Layer                   1\n",
       "Name                    1\n",
       "GEOID                   1\n",
       "HCSOBP_2016-2018        0\n",
       "HCSOBP_2016-2018_moe    0\n",
       "dtype: int64"
      ]
     },
     "execution_count": 6,
     "metadata": {},
     "output_type": "execute_result"
    }
   ],
   "source": [
    "obesity_rate_df.isna().sum()"
   ]
  },
  {
   "cell_type": "code",
   "execution_count": 7,
   "id": "35e445d0-da6c-401d-badd-eb2e8a361c71",
   "metadata": {},
   "outputs": [
    {
     "data": {
      "text/html": [
       "<div>\n",
       "<style scoped>\n",
       "    .dataframe tbody tr th:only-of-type {\n",
       "        vertical-align: middle;\n",
       "    }\n",
       "\n",
       "    .dataframe tbody tr th {\n",
       "        vertical-align: top;\n",
       "    }\n",
       "\n",
       "    .dataframe thead th {\n",
       "        text-align: right;\n",
       "    }\n",
       "</style>\n",
       "<table border=\"1\" class=\"dataframe\">\n",
       "  <thead>\n",
       "    <tr style=\"text-align: right;\">\n",
       "      <th></th>\n",
       "      <th>Layer</th>\n",
       "      <th>Name</th>\n",
       "      <th>GEOID</th>\n",
       "      <th>HCSOBP_2016-2018</th>\n",
       "      <th>HCSOBP_2016-2018_moe</th>\n",
       "    </tr>\n",
       "  </thead>\n",
       "  <tbody>\n",
       "    <tr>\n",
       "      <th>0</th>\n",
       "      <td>NaN</td>\n",
       "      <td>NaN</td>\n",
       "      <td>NaN</td>\n",
       "      <td>Adult obesity rate (% of adults), 2016-2018</td>\n",
       "      <td>(90% margin of error)</td>\n",
       "    </tr>\n",
       "    <tr>\n",
       "      <th>1</th>\n",
       "      <td>Community area</td>\n",
       "      <td>Rogers Park</td>\n",
       "      <td>1.0</td>\n",
       "      <td>33.5</td>\n",
       "      <td>6.33660714232</td>\n",
       "    </tr>\n",
       "    <tr>\n",
       "      <th>2</th>\n",
       "      <td>Community area</td>\n",
       "      <td>Norwood Park</td>\n",
       "      <td>10.0</td>\n",
       "      <td>27.9</td>\n",
       "      <td>8.35089285674</td>\n",
       "    </tr>\n",
       "    <tr>\n",
       "      <th>3</th>\n",
       "      <td>Community area</td>\n",
       "      <td>Jefferson Park</td>\n",
       "      <td>11.0</td>\n",
       "      <td>20.8</td>\n",
       "      <td>7.721428571395</td>\n",
       "    </tr>\n",
       "    <tr>\n",
       "      <th>4</th>\n",
       "      <td>Community area</td>\n",
       "      <td>Forest Glen</td>\n",
       "      <td>12.0</td>\n",
       "      <td>20.3</td>\n",
       "      <td>12.841071428605</td>\n",
       "    </tr>\n",
       "  </tbody>\n",
       "</table>\n",
       "</div>"
      ],
      "text/plain": [
       "            Layer            Name  GEOID  \\\n",
       "0             NaN             NaN    NaN   \n",
       "1  Community area     Rogers Park    1.0   \n",
       "2  Community area    Norwood Park   10.0   \n",
       "3  Community area  Jefferson Park   11.0   \n",
       "4  Community area     Forest Glen   12.0   \n",
       "\n",
       "                              HCSOBP_2016-2018   HCSOBP_2016-2018_moe  \n",
       "0  Adult obesity rate (% of adults), 2016-2018  (90% margin of error)  \n",
       "1                                         33.5          6.33660714232  \n",
       "2                                         27.9          8.35089285674  \n",
       "3                                         20.8         7.721428571395  \n",
       "4                                         20.3        12.841071428605  "
      ]
     },
     "execution_count": 7,
     "metadata": {},
     "output_type": "execute_result"
    }
   ],
   "source": [
    "obesity_rate_df.head()"
   ]
  },
  {
   "cell_type": "markdown",
   "id": "a135e7b4-5276-43b3-a908-7d7f6e99e15a",
   "metadata": {},
   "source": [
    "The reason the obesity rate data has nulls is because some of the header took two rows.  Let's drop that extra row."
   ]
  },
  {
   "cell_type": "code",
   "execution_count": 8,
   "id": "4b7ca34d-77f8-493d-889a-530cc1c4f496",
   "metadata": {},
   "outputs": [],
   "source": [
    "obesity_rate_df.drop(0, inplace=True)"
   ]
  },
  {
   "cell_type": "code",
   "execution_count": 9,
   "id": "62ba3001-68ed-4a50-a4a0-a16c9d97f4c3",
   "metadata": {},
   "outputs": [
    {
     "data": {
      "text/plain": [
       "Layer                    object\n",
       "Name                     object\n",
       "GEOID                   float64\n",
       "HCSOBP_2016-2018         object\n",
       "HCSOBP_2016-2018_moe     object\n",
       "dtype: object"
      ]
     },
     "execution_count": 9,
     "metadata": {},
     "output_type": "execute_result"
    }
   ],
   "source": [
    "obesity_rate_df.dtypes"
   ]
  },
  {
   "cell_type": "code",
   "execution_count": 10,
   "id": "0e1bdbca-5e35-4a17-8d5b-d4c43a4781ac",
   "metadata": {},
   "outputs": [],
   "source": [
    "def float_to_int(num):\n",
    "    return int(num)\n",
    "\n",
    "obesity_rate_df['GEOID'] = obesity_rate_df['GEOID'].apply(float_to_int)"
   ]
  },
  {
   "cell_type": "code",
   "execution_count": 11,
   "id": "8622f11b-f47a-4610-9b9a-22a47be24609",
   "metadata": {},
   "outputs": [],
   "source": [
    "# Convert the rows that should be numeric but were not coded as such because of the extra header to float.\n",
    "obesity_rate_df['HCSOBP_2016-2018'] = obesity_rate_df['HCSOBP_2016-2018'].apply(ct.convert_to_float)\n",
    "obesity_rate_df['HCSOBP_2016-2018_moe'] = obesity_rate_df['HCSOBP_2016-2018_moe'].apply(ct.convert_to_float)"
   ]
  },
  {
   "cell_type": "code",
   "execution_count": 12,
   "id": "a2663414-2f56-4739-a60e-ef71d439ead4",
   "metadata": {},
   "outputs": [
    {
     "data": {
      "text/plain": [
       "77"
      ]
     },
     "execution_count": 12,
     "metadata": {},
     "output_type": "execute_result"
    }
   ],
   "source": [
    "obesity_rate_df['GEOID'].max()"
   ]
  },
  {
   "cell_type": "code",
   "execution_count": 13,
   "id": "8ba64b1a-866d-404e-ac8f-b9594f64a5d6",
   "metadata": {},
   "outputs": [
    {
     "data": {
      "text/plain": [
       "77"
      ]
     },
     "execution_count": 13,
     "metadata": {},
     "output_type": "execute_result"
    }
   ],
   "source": [
    "census_to_community['Community Area'].max()"
   ]
  },
  {
   "cell_type": "markdown",
   "id": "afe51bdb-06c1-41e7-818d-9e68045a8be5",
   "metadata": {},
   "source": [
    "It looks like GEOID in the health data corresponds with community area in the census to community conversion table.  Both contain values up to 77. However, this data source does not appear to include every census tract that is in food_data.csv."
   ]
  },
  {
   "cell_type": "code",
   "execution_count": 14,
   "id": "46896a4b-93d8-4ff0-90dc-84758fe7216c",
   "metadata": {},
   "outputs": [
    {
     "data": {
      "text/plain": [
       "Index(['Layer', 'Name', 'GEOID', 'HCSOBP_2016-2018', 'HCSOBP_2016-2018_moe'], dtype='object')"
      ]
     },
     "execution_count": 14,
     "metadata": {},
     "output_type": "execute_result"
    }
   ],
   "source": [
    "obesity_rate_df.columns"
   ]
  },
  {
   "cell_type": "markdown",
   "id": "c137a6a7-fbca-46d8-805f-fdf40a83c02a",
   "metadata": {},
   "source": [
    "Merging the obesity rate data with the census to community conversion table so each census tract will also be labeled with the community area it is in."
   ]
  },
  {
   "cell_type": "code",
   "execution_count": 15,
   "id": "4c9a6a4c-d229-4b98-85b0-de6ab5e4312d",
   "metadata": {},
   "outputs": [
    {
     "data": {
      "text/plain": [
       "Index(['Tract', 'Label', 'Community Area'], dtype='object')"
      ]
     },
     "execution_count": 15,
     "metadata": {},
     "output_type": "execute_result"
    }
   ],
   "source": [
    "census_to_community.columns"
   ]
  },
  {
   "cell_type": "code",
   "execution_count": 16,
   "id": "d1dde249-6e03-4a5e-8d02-8b3afa513ba4",
   "metadata": {},
   "outputs": [
    {
     "data": {
      "text/plain": [
       "Tract             0\n",
       "Label             0\n",
       "Community Area    0\n",
       "dtype: int64"
      ]
     },
     "execution_count": 16,
     "metadata": {},
     "output_type": "execute_result"
    }
   ],
   "source": [
    "census_to_community.isna().sum()"
   ]
  },
  {
   "cell_type": "code",
   "execution_count": 17,
   "id": "e88e4c86-4b26-4ed6-b30e-117c5db9f60e",
   "metadata": {},
   "outputs": [
    {
     "data": {
      "text/plain": [
       "Tract              int64\n",
       "Label             object\n",
       "Community Area     int64\n",
       "dtype: object"
      ]
     },
     "execution_count": 17,
     "metadata": {},
     "output_type": "execute_result"
    }
   ],
   "source": [
    "census_to_community.dtypes"
   ]
  },
  {
   "cell_type": "code",
   "execution_count": 18,
   "id": "585f2fca-e435-4ecc-ba7e-43801953ff05",
   "metadata": {},
   "outputs": [
    {
     "data": {
      "text/plain": [
       "Index(['Layer', 'Name', 'GEOID', 'HCSOBP_2016-2018', 'HCSOBP_2016-2018_moe'], dtype='object')"
      ]
     },
     "execution_count": 18,
     "metadata": {},
     "output_type": "execute_result"
    }
   ],
   "source": [
    "obesity_rate_df.columns"
   ]
  },
  {
   "cell_type": "code",
   "execution_count": 19,
   "id": "b590d970-db0d-405f-bc8f-668e585845b7",
   "metadata": {},
   "outputs": [
    {
     "data": {
      "text/plain": [
       "Layer                   0\n",
       "Name                    0\n",
       "GEOID                   0\n",
       "HCSOBP_2016-2018        0\n",
       "HCSOBP_2016-2018_moe    0\n",
       "dtype: int64"
      ]
     },
     "execution_count": 19,
     "metadata": {},
     "output_type": "execute_result"
    }
   ],
   "source": [
    "obesity_rate_df.isna().sum()"
   ]
  },
  {
   "cell_type": "code",
   "execution_count": 20,
   "id": "21830edd-eaae-4c84-9a76-0edcfe56734a",
   "metadata": {},
   "outputs": [],
   "source": [
    "obesity_rate_df.rename({'GEOID': 'Community Area'}, axis=1, inplace=True)"
   ]
  },
  {
   "cell_type": "code",
   "execution_count": 21,
   "id": "6fb08f33-1b83-437f-9020-a93418357e4a",
   "metadata": {},
   "outputs": [],
   "source": [
    "obesity_rate_by_census_df = pd.merge(left=census_to_community, right=obesity_rate_df, how='left', on='Community Area')"
   ]
  },
  {
   "cell_type": "code",
   "execution_count": 22,
   "id": "4bd13f7e-24cd-4c1e-8a60-a43c64cdcd41",
   "metadata": {},
   "outputs": [
    {
     "data": {
      "text/plain": [
       "Tract                   0\n",
       "Label                   0\n",
       "Community Area          0\n",
       "Layer                   8\n",
       "Name                    8\n",
       "HCSOBP_2016-2018        8\n",
       "HCSOBP_2016-2018_moe    8\n",
       "dtype: int64"
      ]
     },
     "execution_count": 22,
     "metadata": {},
     "output_type": "execute_result"
    }
   ],
   "source": [
    "obesity_rate_by_census_df.isna().sum()"
   ]
  },
  {
   "cell_type": "markdown",
   "id": "574bb1a2-98af-46d9-adc8-ce2f026b62fc",
   "metadata": {},
   "source": [
    "Some rows are null after merging.  What happened?"
   ]
  },
  {
   "cell_type": "code",
   "execution_count": 23,
   "id": "529b9831-5cab-487b-9065-bf3ff423454b",
   "metadata": {},
   "outputs": [
    {
     "data": {
      "text/html": [
       "<div>\n",
       "<style scoped>\n",
       "    .dataframe tbody tr th:only-of-type {\n",
       "        vertical-align: middle;\n",
       "    }\n",
       "\n",
       "    .dataframe tbody tr th {\n",
       "        vertical-align: top;\n",
       "    }\n",
       "\n",
       "    .dataframe thead th {\n",
       "        text-align: right;\n",
       "    }\n",
       "</style>\n",
       "<table border=\"1\" class=\"dataframe\">\n",
       "  <thead>\n",
       "    <tr style=\"text-align: right;\">\n",
       "      <th></th>\n",
       "      <th>Tract</th>\n",
       "      <th>Label</th>\n",
       "      <th>Community Area</th>\n",
       "      <th>Layer</th>\n",
       "      <th>Name</th>\n",
       "      <th>HCSOBP_2016-2018</th>\n",
       "      <th>HCSOBP_2016-2018_moe</th>\n",
       "    </tr>\n",
       "  </thead>\n",
       "  <tbody>\n",
       "    <tr>\n",
       "      <th>391</th>\n",
       "      <td>17031340300</td>\n",
       "      <td>Census Tract 3403, Cook County, Illinois</td>\n",
       "      <td>34</td>\n",
       "      <td>NaN</td>\n",
       "      <td>NaN</td>\n",
       "      <td>NaN</td>\n",
       "      <td>NaN</td>\n",
       "    </tr>\n",
       "    <tr>\n",
       "      <th>392</th>\n",
       "      <td>17031340400</td>\n",
       "      <td>Census Tract 3404, Cook County, Illinois</td>\n",
       "      <td>34</td>\n",
       "      <td>NaN</td>\n",
       "      <td>NaN</td>\n",
       "      <td>NaN</td>\n",
       "      <td>NaN</td>\n",
       "    </tr>\n",
       "    <tr>\n",
       "      <th>393</th>\n",
       "      <td>17031340500</td>\n",
       "      <td>Census Tract 3405, Cook County, Illinois</td>\n",
       "      <td>34</td>\n",
       "      <td>NaN</td>\n",
       "      <td>NaN</td>\n",
       "      <td>NaN</td>\n",
       "      <td>NaN</td>\n",
       "    </tr>\n",
       "    <tr>\n",
       "      <th>394</th>\n",
       "      <td>17031340600</td>\n",
       "      <td>Census Tract 3406, Cook County, Illinois</td>\n",
       "      <td>34</td>\n",
       "      <td>NaN</td>\n",
       "      <td>NaN</td>\n",
       "      <td>NaN</td>\n",
       "      <td>NaN</td>\n",
       "    </tr>\n",
       "    <tr>\n",
       "      <th>475</th>\n",
       "      <td>17031470100</td>\n",
       "      <td>Census Tract 4701, Cook County, Illinois</td>\n",
       "      <td>47</td>\n",
       "      <td>NaN</td>\n",
       "      <td>NaN</td>\n",
       "      <td>NaN</td>\n",
       "      <td>NaN</td>\n",
       "    </tr>\n",
       "    <tr>\n",
       "      <th>723</th>\n",
       "      <td>17031835500</td>\n",
       "      <td>Census Tract 8355, Cook County, Illinois</td>\n",
       "      <td>37</td>\n",
       "      <td>NaN</td>\n",
       "      <td>NaN</td>\n",
       "      <td>NaN</td>\n",
       "      <td>NaN</td>\n",
       "    </tr>\n",
       "    <tr>\n",
       "      <th>724</th>\n",
       "      <td>17031835600</td>\n",
       "      <td>Census Tract 8356, Cook County, Illinois</td>\n",
       "      <td>37</td>\n",
       "      <td>NaN</td>\n",
       "      <td>NaN</td>\n",
       "      <td>NaN</td>\n",
       "      <td>NaN</td>\n",
       "    </tr>\n",
       "    <tr>\n",
       "      <th>766</th>\n",
       "      <td>17031841100</td>\n",
       "      <td>Census Tract 8411, Cook County, Illinois</td>\n",
       "      <td>34</td>\n",
       "      <td>NaN</td>\n",
       "      <td>NaN</td>\n",
       "      <td>NaN</td>\n",
       "      <td>NaN</td>\n",
       "    </tr>\n",
       "  </tbody>\n",
       "</table>\n",
       "</div>"
      ],
      "text/plain": [
       "           Tract                                     Label  Community Area  \\\n",
       "391  17031340300  Census Tract 3403, Cook County, Illinois              34   \n",
       "392  17031340400  Census Tract 3404, Cook County, Illinois              34   \n",
       "393  17031340500  Census Tract 3405, Cook County, Illinois              34   \n",
       "394  17031340600  Census Tract 3406, Cook County, Illinois              34   \n",
       "475  17031470100  Census Tract 4701, Cook County, Illinois              47   \n",
       "723  17031835500  Census Tract 8355, Cook County, Illinois              37   \n",
       "724  17031835600  Census Tract 8356, Cook County, Illinois              37   \n",
       "766  17031841100  Census Tract 8411, Cook County, Illinois              34   \n",
       "\n",
       "    Layer Name  HCSOBP_2016-2018  HCSOBP_2016-2018_moe  \n",
       "391   NaN  NaN               NaN                   NaN  \n",
       "392   NaN  NaN               NaN                   NaN  \n",
       "393   NaN  NaN               NaN                   NaN  \n",
       "394   NaN  NaN               NaN                   NaN  \n",
       "475   NaN  NaN               NaN                   NaN  \n",
       "723   NaN  NaN               NaN                   NaN  \n",
       "724   NaN  NaN               NaN                   NaN  \n",
       "766   NaN  NaN               NaN                   NaN  "
      ]
     },
     "execution_count": 23,
     "metadata": {},
     "output_type": "execute_result"
    }
   ],
   "source": [
    "obesity_rate_by_census_df[obesity_rate_by_census_df['HCSOBP_2016-2018'].isna()]"
   ]
  },
  {
   "cell_type": "markdown",
   "id": "7dbd2e4f-fb47-4935-9f2c-679cb84b0d70",
   "metadata": {},
   "source": [
    "It appears that community areas 34, 37, and 47 were not included in the obesity data.  These will need to be dropped."
   ]
  },
  {
   "cell_type": "code",
   "execution_count": 24,
   "id": "51cd57a2-8b57-48cc-a12e-37840c46a465",
   "metadata": {},
   "outputs": [],
   "source": [
    "obesity_rate_by_census_df.dropna(inplace=True)"
   ]
  },
  {
   "cell_type": "markdown",
   "id": "8af0514a-fb84-49c1-a756-3e221ef8a93b",
   "metadata": {},
   "source": [
    "### Beginning EDA on the food access data. ###"
   ]
  },
  {
   "cell_type": "code",
   "execution_count": 25,
   "id": "1005665b-589e-463a-84d8-282e4e6be666",
   "metadata": {},
   "outputs": [],
   "source": [
    "# Custom function creates a dataframe with information about the NULLs and datatypes of each column.\n",
    "food_info = ct.info_frame(food_data)"
   ]
  },
  {
   "cell_type": "code",
   "execution_count": 26,
   "id": "cc59a386-c329-4f5e-ad83-0414b2d68224",
   "metadata": {},
   "outputs": [
    {
     "data": {
      "text/html": [
       "<div>\n",
       "<style scoped>\n",
       "    .dataframe tbody tr th:only-of-type {\n",
       "        vertical-align: middle;\n",
       "    }\n",
       "\n",
       "    .dataframe tbody tr th {\n",
       "        vertical-align: top;\n",
       "    }\n",
       "\n",
       "    .dataframe thead th {\n",
       "        text-align: right;\n",
       "    }\n",
       "</style>\n",
       "<table border=\"1\" class=\"dataframe\">\n",
       "  <thead>\n",
       "    <tr style=\"text-align: right;\">\n",
       "      <th></th>\n",
       "      <th>name</th>\n",
       "      <th>type</th>\n",
       "      <th>num_nans</th>\n",
       "    </tr>\n",
       "  </thead>\n",
       "  <tbody>\n",
       "    <tr>\n",
       "      <th>133</th>\n",
       "      <td>lahunv20share</td>\n",
       "      <td>float64</td>\n",
       "      <td>1314</td>\n",
       "    </tr>\n",
       "    <tr>\n",
       "      <th>94</th>\n",
       "      <td>lablack10</td>\n",
       "      <td>float64</td>\n",
       "      <td>1314</td>\n",
       "    </tr>\n",
       "    <tr>\n",
       "      <th>106</th>\n",
       "      <td>lahunv10</td>\n",
       "      <td>float64</td>\n",
       "      <td>1314</td>\n",
       "    </tr>\n",
       "    <tr>\n",
       "      <th>105</th>\n",
       "      <td>lahisp10share</td>\n",
       "      <td>float64</td>\n",
       "      <td>1314</td>\n",
       "    </tr>\n",
       "    <tr>\n",
       "      <th>103</th>\n",
       "      <td>laomultir10share</td>\n",
       "      <td>float64</td>\n",
       "      <td>1314</td>\n",
       "    </tr>\n",
       "  </tbody>\n",
       "</table>\n",
       "</div>"
      ],
      "text/plain": [
       "                 name     type  num_nans\n",
       "133     lahunv20share  float64      1314\n",
       "94          lablack10  float64      1314\n",
       "106          lahunv10  float64      1314\n",
       "105     lahisp10share  float64      1314\n",
       "103  laomultir10share  float64      1314"
      ]
     },
     "execution_count": 26,
     "metadata": {},
     "output_type": "execute_result"
    }
   ],
   "source": [
    "food_info.sort_values(by='num_nans', ascending=False).head()"
   ]
  },
  {
   "cell_type": "code",
   "execution_count": 27,
   "id": "a6150061-08a5-4e5f-aefa-5ea97c0e4172",
   "metadata": {},
   "outputs": [
    {
     "data": {
      "text/plain": [
       "52"
      ]
     },
     "execution_count": 27,
     "metadata": {},
     "output_type": "execute_result"
    }
   ],
   "source": [
    "len(food_info[food_info['num_nans'] == 1314])"
   ]
  },
  {
   "cell_type": "code",
   "execution_count": 28,
   "id": "94b1e06e-370b-4a50-a1bb-4145ad705d75",
   "metadata": {},
   "outputs": [
    {
     "data": {
      "text/plain": [
       "49"
      ]
     },
     "execution_count": 28,
     "metadata": {},
     "output_type": "execute_result"
    }
   ],
   "source": [
    "len(food_info[food_info['num_nans'] == 0])"
   ]
  },
  {
   "cell_type": "markdown",
   "id": "11919fd8-3e59-412f-a19e-d03d1485d518",
   "metadata": {},
   "source": [
    "This data has quite a few NULL values.  These values are actually coded as NULL in the original csv, suggeting that they are missing information or irrelevant for the selected census tract.  52 of the 160 columns are entirely NULL.  A total of 49 columns in this table have no NULL values at all."
   ]
  },
  {
   "cell_type": "code",
   "execution_count": 29,
   "id": "ad85209c-5c12-4836-b51d-f80b0230d3de",
   "metadata": {},
   "outputs": [],
   "source": [
    "null_cols = [food_info.loc[col]['name'] for col in food_info.index if food_info.loc[col]['num_nans'] == 1314]"
   ]
  },
  {
   "cell_type": "code",
   "execution_count": 30,
   "id": "c58a8bea-5e9e-4521-8782-19466ca76f7b",
   "metadata": {},
   "outputs": [],
   "source": [
    "# Drop the columns that have only NULL values, as well as Unnamed: 0\n",
    "food_data.drop(columns=null_cols, inplace=True)\n",
    "food_data.drop(columns='Unnamed: 0', inplace=True)"
   ]
  },
  {
   "cell_type": "code",
   "execution_count": 31,
   "id": "65939d17-d1d1-4fbb-bbb4-c21a21f8f432",
   "metadata": {},
   "outputs": [
    {
     "data": {
      "text/plain": [
       "(1314, 107)"
      ]
     },
     "execution_count": 31,
     "metadata": {},
     "output_type": "execute_result"
    }
   ],
   "source": [
    "food_data.shape"
   ]
  },
  {
   "cell_type": "code",
   "execution_count": 32,
   "id": "20ccfe13-c69b-4b87-b5bd-41c3933b2f92",
   "metadata": {},
   "outputs": [],
   "source": [
    "food_info = ct.info_frame(food_data)"
   ]
  },
  {
   "cell_type": "code",
   "execution_count": 33,
   "id": "3f356ef5-8962-47ea-9dff-ab2a0d212b9d",
   "metadata": {},
   "outputs": [
    {
     "data": {
      "text/html": [
       "<div>\n",
       "<style scoped>\n",
       "    .dataframe tbody tr th:only-of-type {\n",
       "        vertical-align: middle;\n",
       "    }\n",
       "\n",
       "    .dataframe tbody tr th {\n",
       "        vertical-align: top;\n",
       "    }\n",
       "\n",
       "    .dataframe thead th {\n",
       "        text-align: right;\n",
       "    }\n",
       "</style>\n",
       "<table border=\"1\" class=\"dataframe\">\n",
       "  <thead>\n",
       "    <tr style=\"text-align: right;\">\n",
       "      <th></th>\n",
       "      <th>name</th>\n",
       "      <th>type</th>\n",
       "      <th>num_nans</th>\n",
       "    </tr>\n",
       "  </thead>\n",
       "  <tbody>\n",
       "    <tr>\n",
       "      <th>30</th>\n",
       "      <td>LALOWI1_20</td>\n",
       "      <td>float64</td>\n",
       "      <td>974</td>\n",
       "    </tr>\n",
       "    <tr>\n",
       "      <th>28</th>\n",
       "      <td>LALOWI1_10</td>\n",
       "      <td>float64</td>\n",
       "      <td>974</td>\n",
       "    </tr>\n",
       "    <tr>\n",
       "      <th>27</th>\n",
       "      <td>LAPOP1_20</td>\n",
       "      <td>float64</td>\n",
       "      <td>974</td>\n",
       "    </tr>\n",
       "    <tr>\n",
       "      <th>25</th>\n",
       "      <td>LAPOP1_10</td>\n",
       "      <td>float64</td>\n",
       "      <td>974</td>\n",
       "    </tr>\n",
       "    <tr>\n",
       "      <th>81</th>\n",
       "      <td>lasnap1</td>\n",
       "      <td>float64</td>\n",
       "      <td>972</td>\n",
       "    </tr>\n",
       "  </tbody>\n",
       "</table>\n",
       "</div>"
      ],
      "text/plain": [
       "          name     type  num_nans\n",
       "30  LALOWI1_20  float64       974\n",
       "28  LALOWI1_10  float64       974\n",
       "27   LAPOP1_20  float64       974\n",
       "25   LAPOP1_10  float64       974\n",
       "81     lasnap1  float64       972"
      ]
     },
     "execution_count": 33,
     "metadata": {},
     "output_type": "execute_result"
    }
   ],
   "source": [
    "food_info.sort_values(by='num_nans', ascending=False).head()"
   ]
  },
  {
   "cell_type": "code",
   "execution_count": 34,
   "id": "fa6b5022-f26a-47aa-9eea-1d7c572e363f",
   "metadata": {},
   "outputs": [
    {
     "data": {
      "text/plain": [
       "0.0       48\n",
       "3.0        4\n",
       "1.0        4\n",
       "4.0        4\n",
       "2186.0     3\n",
       "          ..\n",
       "3149.0     1\n",
       "2424.0     1\n",
       "57.0       1\n",
       "2985.0     1\n",
       "1101.0     1\n",
       "Name: LAPOP05_10, Length: 799, dtype: int64"
      ]
     },
     "execution_count": 34,
     "metadata": {},
     "output_type": "execute_result"
    }
   ],
   "source": [
    "food_data['LAPOP05_10'].value_counts()"
   ]
  },
  {
   "cell_type": "markdown",
   "id": "37495c36-da29-4a83-ac5b-c5fce39e456c",
   "metadata": {},
   "source": [
    "At least some columns with NULL values also have some 0 values, so it's reasonable to assume that NULL does not mean 0.  It's also reasonable to assume that it doesn't indicate the feature is somehow irrelevant for a given census tract, as these correspond to values such as the portion of low-access, low-income population at certain distances from a supermarket.  Since no further information is provided about these NULL values, it seems most likely that the data was not available.\n",
    "\n",
    "Since NULL values will be problematic for any method of food desert identification, and we want to include every census tract in our analysis, let's examine the features that have no NULL values at all.  These features alone may provide enough information for our analysis.\n",
    "\n",
    "To get some idea of whether the features without NULL values can sufficiently identify food deserts, let's do a very quick and basic regression.  We will see whether these features have the potential to predict adult obesity rate, which we expect to be higher in food deserts."
   ]
  },
  {
   "cell_type": "code",
   "execution_count": 35,
   "id": "acc41c2c-f585-4a74-b45e-57111eb9a6e2",
   "metadata": {},
   "outputs": [],
   "source": [
    "food_non_null_cols = [food_info.loc[col]['name'] for col in food_info.index if food_info.loc[col]['num_nans'] == 0]"
   ]
  },
  {
   "cell_type": "code",
   "execution_count": 36,
   "id": "81050aba-ff10-48da-be65-236b9908d3e5",
   "metadata": {},
   "outputs": [],
   "source": [
    "food_non_null = food_data[food_non_null_cols].copy()"
   ]
  },
  {
   "cell_type": "code",
   "execution_count": 37,
   "id": "47d2cb22-cbcb-4950-b6fb-a7950f4bebef",
   "metadata": {},
   "outputs": [
    {
     "data": {
      "text/plain": [
       "Index(['CensusTract', 'State', 'County', 'Urban', 'Pop2010', 'OHU2010',\n",
       "       'GroupQuartersFlag', 'NUMGQTRS', 'PCTGQTRS', 'LILATracts_1And10',\n",
       "       'LILATracts_halfAnd10', 'LILATracts_1And20', 'LILATracts_Vehicle',\n",
       "       'HUNVFlag', 'LowIncomeTracts', 'PovertyRate', 'LA1and10', 'LAhalfand10',\n",
       "       'LA1and20', 'LATracts_half', 'LATracts1', 'LATracts10', 'LATracts20',\n",
       "       'LATractsVehicle_20', 'TractLOWI', 'TractKids', 'TractSeniors',\n",
       "       'TractWhite', 'TractBlack', 'TractAsian', 'TractNHOPI', 'TractAIAN',\n",
       "       'TractOMultir', 'TractHispanic', 'TractHUNV', 'TractSNAP', 'STATEFP10',\n",
       "       'COUNTYFP10', 'TRACTCE10', 'GEOID10', 'NAME10', 'NAMELSAD10', 'MTFCC10',\n",
       "       'FUNCSTAT10', 'ALAND10', 'AWATER10', 'INTPTLAT10', 'INTPTLON10'],\n",
       "      dtype='object')"
      ]
     },
     "execution_count": 37,
     "metadata": {},
     "output_type": "execute_result"
    }
   ],
   "source": [
    "food_non_null.columns"
   ]
  },
  {
   "cell_type": "code",
   "execution_count": 38,
   "id": "4b3aa541-6b7b-4ee6-a3fa-9200361e239d",
   "metadata": {},
   "outputs": [
    {
     "data": {
      "text/plain": [
       "Index(['Layer', 'Name', 'Community Area', 'HCSOBP_2016-2018',\n",
       "       'HCSOBP_2016-2018_moe'],\n",
       "      dtype='object')"
      ]
     },
     "execution_count": 38,
     "metadata": {},
     "output_type": "execute_result"
    }
   ],
   "source": [
    "obesity_rate_df.columns"
   ]
  },
  {
   "cell_type": "code",
   "execution_count": 39,
   "id": "2b891265-6c5b-4a80-b8ff-3868332b661b",
   "metadata": {},
   "outputs": [],
   "source": [
    "# The inner merge includes only the census tracts that were included in the community area information.\n",
    "food_non_null.rename(columns={'CensusTract': 'Tract'}, inplace=True)\n",
    "quick_fit_df = pd.merge(left=food_non_null, right=obesity_rate_by_census_df, how='inner', on='Tract')"
   ]
  },
  {
   "cell_type": "code",
   "execution_count": 40,
   "id": "e7dfe6fd-b5df-41b5-8eb1-67ae64041e1d",
   "metadata": {},
   "outputs": [],
   "source": [
    "# Drop non-numeric columns for now, for this quick fit.\n",
    "quick_fit_df_numeric = quick_fit_df.select_dtypes(exclude='object').copy()\n",
    "\n",
    "# Drop the Tract column, as it is only a label for the current purpose.\n",
    "quick_fit_df_numeric.drop(columns=['Tract'], inplace=True)"
   ]
  },
  {
   "cell_type": "code",
   "execution_count": 41,
   "id": "794f47dd-0d34-49ba-b4cf-45fe2ff4a270",
   "metadata": {},
   "outputs": [],
   "source": [
    "from sklearn.linear_model import LinearRegression\n",
    "\n",
    "from sklearn.model_selection import train_test_split\n",
    "\n",
    "from sklearn.metrics import mean_squared_error\n",
    "\n",
    "X = quick_fit_df_numeric.drop(columns=['HCSOBP_2016-2018'])\n",
    "y = quick_fit_df_numeric['HCSOBP_2016-2018']\n",
    "\n",
    "X_train, X_test, y_train, y_test = train_test_split(X, y, random_state=3224)"
   ]
  },
  {
   "cell_type": "code",
   "execution_count": 42,
   "id": "ccb5f611-eec8-43f5-ae3f-65fb98808226",
   "metadata": {},
   "outputs": [],
   "source": [
    "linreg = LinearRegression()"
   ]
  },
  {
   "cell_type": "code",
   "execution_count": 43,
   "id": "1e9a33fd-d48e-47bd-a40b-eb115b93d645",
   "metadata": {},
   "outputs": [
    {
     "data": {
      "text/plain": [
       "LinearRegression()"
      ]
     },
     "execution_count": 43,
     "metadata": {},
     "output_type": "execute_result"
    }
   ],
   "source": [
    "linreg.fit(X_train, y_train)"
   ]
  },
  {
   "cell_type": "code",
   "execution_count": 44,
   "id": "d4bdb332-3f4e-4d80-ba97-997562d62650",
   "metadata": {},
   "outputs": [
    {
     "data": {
      "text/plain": [
       "0.6943864960884665"
      ]
     },
     "execution_count": 44,
     "metadata": {},
     "output_type": "execute_result"
    }
   ],
   "source": [
    "linreg.score(X_train, y_train)"
   ]
  },
  {
   "cell_type": "code",
   "execution_count": 45,
   "id": "a1b775cf-0d82-486a-bced-26b483cae5db",
   "metadata": {},
   "outputs": [
    {
     "data": {
      "text/plain": [
       "0.5334382406083176"
      ]
     },
     "execution_count": 45,
     "metadata": {},
     "output_type": "execute_result"
    }
   ],
   "source": [
    "linreg.score(X_test, y_test)"
   ]
  },
  {
   "cell_type": "code",
   "execution_count": 46,
   "id": "3a1dbfb9-6b2f-4418-b507-c046f34580eb",
   "metadata": {},
   "outputs": [],
   "source": [
    "preds = linreg.predict(X_test)"
   ]
  },
  {
   "cell_type": "code",
   "execution_count": 47,
   "id": "8f3b104c-f7fc-4739-ba4f-e1019463b142",
   "metadata": {},
   "outputs": [
    {
     "data": {
      "text/plain": [
       "7.528671732272983"
      ]
     },
     "execution_count": 47,
     "metadata": {},
     "output_type": "execute_result"
    }
   ],
   "source": [
    "mean_squared_error(y_test, preds)**0.5"
   ]
  },
  {
   "cell_type": "code",
   "execution_count": 48,
   "id": "565a30d7-6d02-417d-bd9d-5d5229a65508",
   "metadata": {},
   "outputs": [
    {
     "data": {
      "text/plain": [
       "30.678571428571427"
      ]
     },
     "execution_count": 48,
     "metadata": {},
     "output_type": "execute_result"
    }
   ],
   "source": [
    "y_test.mean()"
   ]
  },
  {
   "cell_type": "markdown",
   "id": "75812f16-db1a-407d-aad6-44775d5a3278",
   "metadata": {},
   "source": [
    "This very simple linear fit is already showing some predictive relationship between food accessibility and adult obesity rates.  This is very promising for using these features to identify food deserts.  As we continue, we should be able to employ more sophisticated analysis to improve our identification of food deserts."
   ]
  },
  {
   "cell_type": "code",
   "execution_count": null,
   "id": "450b8555-3ca5-42f5-b1e0-4557a8d17226",
   "metadata": {},
   "outputs": [],
   "source": []
  }
 ],
 "metadata": {
  "kernelspec": {
   "display_name": "Python 3 (ipykernel)",
   "language": "python",
   "name": "python3"
  },
  "language_info": {
   "codemirror_mode": {
    "name": "ipython",
    "version": 3
   },
   "file_extension": ".py",
   "mimetype": "text/x-python",
   "name": "python",
   "nbconvert_exporter": "python",
   "pygments_lexer": "ipython3",
   "version": "3.8.12"
  }
 },
 "nbformat": 4,
 "nbformat_minor": 5
}
