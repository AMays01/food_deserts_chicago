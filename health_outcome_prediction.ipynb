{
 "cells": [
  {
   "cell_type": "markdown",
   "id": "0cee742d-3a8b-4865-94f1-0e83dc862591",
   "metadata": {},
   "source": [
    "# In this notebook, we use different food access factors to predict outcomes related to food deserts in order to identify the most important features for labelling a food desert. #"
   ]
  },
  {
   "cell_type": "code",
   "execution_count": 1,
   "id": "eff26753-2c2a-497d-9218-316de4581000",
   "metadata": {},
   "outputs": [],
   "source": [
    "import numpy as np\n",
    "import pandas as pd\n",
    "\n",
    "from sklearn.model_selection import train_test_split\n",
    "from sklearn.linear_model import LinearRegression\n",
    "from sklearn.metrics import mean_squared_error"
   ]
  },
  {
   "cell_type": "code",
   "execution_count": 2,
   "id": "d0596c58-85db-4280-8132-efd8a743ae27",
   "metadata": {},
   "outputs": [],
   "source": [
    "food_obesity = pd.read_csv('./data/food_obesity.csv')\n",
    "food_diabetes = pd.read_csv('./data/food_diabetes.csv')"
   ]
  },
  {
   "cell_type": "markdown",
   "id": "bb358099-676d-49e3-9013-c8e46ff797ee",
   "metadata": {
    "tags": []
   },
   "source": [
    "### Section A: A quick regression to see if our food access data predicts obesity rates ###"
   ]
  },
  {
   "cell_type": "markdown",
   "id": "108e0b0d-1ef6-4d66-b972-a9a8e2534e25",
   "metadata": {},
   "source": [
    "To get some idea of whether the features without NULL values can sufficiently identify food deserts, let's do a very quick and basic regression.  We will see whether these features have the potential to predict adult obesity rate, which we expect to be higher in food deserts."
   ]
  },
  {
   "cell_type": "code",
   "execution_count": 3,
   "id": "6ec7640e-ceae-4000-af1a-7405eb2350d1",
   "metadata": {},
   "outputs": [],
   "source": [
    "# Drop the Population and Number of Housing Units for this quick fit, as they aren't directly related to food access.\n",
    "quick_fit_df = food_obesity.drop(columns=['Pop2010', 'OHU2010'])\n",
    "# Drop the Tract and Community Area columns, as they are only labels now that the tables are merged.\n",
    "quick_fit_df.drop(columns=['Tract', 'Community Area'], inplace=True)"
   ]
  },
  {
   "cell_type": "code",
   "execution_count": 4,
   "id": "f36d48f8-f2af-4df2-873b-cac48e4fee84",
   "metadata": {},
   "outputs": [],
   "source": [
    "X = quick_fit_df.drop(columns=['HCSOBP_2016-2018'])\n",
    "y = quick_fit_df['HCSOBP_2016-2018']\n",
    "\n",
    "X_train, X_test, y_train, y_test = train_test_split(X, y, random_state=3224)"
   ]
  },
  {
   "cell_type": "code",
   "execution_count": 5,
   "id": "4184416e-5880-4e98-bdb6-e27efcbc07d4",
   "metadata": {},
   "outputs": [],
   "source": [
    "linreg = LinearRegression()"
   ]
  },
  {
   "cell_type": "code",
   "execution_count": 6,
   "id": "42311e1a-2482-48a3-a2d1-ae4c5bc2a9cb",
   "metadata": {},
   "outputs": [],
   "source": [
    "linreg.fit(X_train, y_train);"
   ]
  },
  {
   "cell_type": "code",
   "execution_count": 7,
   "id": "c14dc4cf-ea5e-4184-85b4-73d3d8cab2f4",
   "metadata": {},
   "outputs": [
    {
     "data": {
      "text/plain": [
       "0.6005628503983738"
      ]
     },
     "execution_count": 7,
     "metadata": {},
     "output_type": "execute_result"
    }
   ],
   "source": [
    "linreg.score(X_train, y_train)"
   ]
  },
  {
   "cell_type": "code",
   "execution_count": 8,
   "id": "9755fc4b-2510-429e-a812-538c067ad513",
   "metadata": {},
   "outputs": [
    {
     "data": {
      "text/plain": [
       "0.41480123568922367"
      ]
     },
     "execution_count": 8,
     "metadata": {},
     "output_type": "execute_result"
    }
   ],
   "source": [
    "linreg.score(X_test, y_test)"
   ]
  },
  {
   "cell_type": "code",
   "execution_count": 9,
   "id": "fa790ad4-8f06-4adb-89c3-59f099f7e156",
   "metadata": {},
   "outputs": [],
   "source": [
    "preds = linreg.predict(X_test)"
   ]
  },
  {
   "cell_type": "code",
   "execution_count": 10,
   "id": "5b800cde-cb39-4bef-bbed-5eb7f857e6a2",
   "metadata": {},
   "outputs": [],
   "source": [
    "rmse_regression = mean_squared_error(y_test, preds)**0.5"
   ]
  },
  {
   "cell_type": "code",
   "execution_count": 11,
   "id": "628fd37b-95d5-4bd3-86da-6bd532cf7872",
   "metadata": {},
   "outputs": [
    {
     "data": {
      "text/plain": [
       "30.678571428571427"
      ]
     },
     "execution_count": 11,
     "metadata": {},
     "output_type": "execute_result"
    }
   ],
   "source": [
    "y_test.mean()"
   ]
  },
  {
   "cell_type": "code",
   "execution_count": 12,
   "id": "487255a7-503a-4d3f-8d0e-7e2cf3ad04a5",
   "metadata": {},
   "outputs": [],
   "source": [
    "base_preds = np.ones(196)*y_test.mean()"
   ]
  },
  {
   "cell_type": "code",
   "execution_count": 13,
   "id": "2f4a8744-15f4-455a-8eba-ca9120aca722",
   "metadata": {},
   "outputs": [],
   "source": [
    "rmse_base = mean_squared_error(y_test, base_preds)**0.5"
   ]
  },
  {
   "cell_type": "code",
   "execution_count": 14,
   "id": "a035ca97-57bc-4bfc-a5f6-a76e553ecd97",
   "metadata": {},
   "outputs": [
    {
     "name": "stdout",
     "output_type": "stream",
     "text": [
      "Baseline RMSE: 11.0220858983688\n",
      "Regression RMSE: 8.43170670881344\n",
      "Improvement over baseline: 2.5903791895553603\n",
      "Proportional improvement: 0.23501714770148183\n"
     ]
    }
   ],
   "source": [
    "print(f'Baseline RMSE: {rmse_base}')\n",
    "print(f'Regression RMSE: {rmse_regression}')\n",
    "print(f'Improvement over baseline: {rmse_base - rmse_regression}')\n",
    "print(f'Proportional improvement: {(rmse_base - rmse_regression)/rmse_base}')"
   ]
  },
  {
   "cell_type": "markdown",
   "id": "f8676f48-248b-4e13-b2d5-5e6e253e72ca",
   "metadata": {},
   "source": [
    "This very simple linear fit is already showing some predictive relationship between food accessibility and adult obesity rates.  This is very promising for using these features to identify food deserts."
   ]
  },
  {
   "cell_type": "markdown",
   "id": "e5c649f6-e717-4d58-be35-8824aacbaa66",
   "metadata": {},
   "source": [
    "### Section B: Predicting Obesity and Diabetes Rates with Food Access Data ###"
   ]
  },
  {
   "cell_type": "code",
   "execution_count": 15,
   "id": "f899280c-4ceb-4203-ac79-121f1c4c615f",
   "metadata": {},
   "outputs": [],
   "source": [
    "# We expect percentage of population in SNAP program to be more useful than raw number.\n",
    "food_obesity['TractSNAP_percent'] = food_obesity['TractSNAP'] / food_obesity['Pop2010']\n",
    "food_diabetes['TractSNAP_percent'] = food_diabetes['TractSNAP'] / food_diabetes['Pop2010']"
   ]
  },
  {
   "cell_type": "code",
   "execution_count": 16,
   "id": "32ede8ee-a2fb-4919-80c8-6f4604d24fdf",
   "metadata": {},
   "outputs": [],
   "source": [
    "def linear_fit(df, features, target):\n",
    "    \n",
    "    \"\"\"\n",
    "    This function performs a simple linear regression on the data in a Dataframe.\n",
    "    The following metrics are printed: train R2, test R2, baseline RMSE, test RMSE, flat RMSE change, proportional RMSE change\n",
    "    The coefficient value for each feature is returned in a new DataFrame.\n",
    "    \n",
    "    df is the frame containing the data.\n",
    "    features is a list of the columns to be used as features.\n",
    "    target is the name of the target column.\n",
    "    \"\"\"\n",
    "    \n",
    "    # Set up train and test data.\n",
    "    X = df[features]\n",
    "    y = df[target]\n",
    "    X_train, X_test, y_train, y_test = train_test_split(X, y, random_state=3224)\n",
    "    \n",
    "    # Fit the model.\n",
    "    linreg = LinearRegression()\n",
    "    linreg.fit(X_train, y_train)\n",
    "    \n",
    "    # Calculate RMSE for train and test.\n",
    "    preds = linreg.predict(X_test)\n",
    "    rmse_regression = mean_squared_error(y_test, preds)**0.5\n",
    "    base_preds = np.ones(len(y_test))*y_test.mean()\n",
    "    rmse_base = mean_squared_error(y_test, base_preds)**0.5\n",
    "    \n",
    "    # Print metrics and return dataframe that shows the coefficient of each feature.\n",
    "    print(f'Training R2: {linreg.score(X_train, y_train)}')\n",
    "    print(f'Testing R2: {linreg.score(X_test, y_test)}')\n",
    "    print(f'Baseline RMSE: {rmse_base}')\n",
    "    print(f'Regression RMSE: {rmse_regression}')\n",
    "    print(f'Improvement over baseline: {rmse_base - rmse_regression}')\n",
    "    print(f'Proportional improvement: {(rmse_base - rmse_regression)/rmse_base}')\n",
    "    return pd.DataFrame(zip(X_train.columns, linreg.coef_), columns=['feature', 'coefficient']).sort_values(by='coefficient', ascending=False)"
   ]
  },
  {
   "cell_type": "markdown",
   "id": "9a889436-ed9e-46a2-b81e-540c8a5354f3",
   "metadata": {
    "tags": []
   },
   "source": [
    "### *Predicting obesity with 1-mile food access data* ###"
   ]
  },
  {
   "cell_type": "code",
   "execution_count": 17,
   "id": "3eae22cf-f903-41b1-a87c-4c572c9e7966",
   "metadata": {},
   "outputs": [],
   "source": [
    "cols_1_mile = ['LowIncomeTracts', 'LATracts1', 'HUNVFlag', 'TractSNAP_percent']"
   ]
  },
  {
   "cell_type": "code",
   "execution_count": 18,
   "id": "b9d4769a-a1d9-4110-926d-81bf88436160",
   "metadata": {},
   "outputs": [
    {
     "name": "stdout",
     "output_type": "stream",
     "text": [
      "Training R2: 0.32764373549260173\n",
      "Testing R2: 0.288560034822962\n",
      "Baseline RMSE: 11.0220858983688\n",
      "Regression RMSE: 9.296787843894386\n",
      "Improvement over baseline: 1.7252980544744148\n",
      "Proportional improvement: 0.1565309933512447\n"
     ]
    },
    {
     "data": {
      "text/html": [
       "<div>\n",
       "<style scoped>\n",
       "    .dataframe tbody tr th:only-of-type {\n",
       "        vertical-align: middle;\n",
       "    }\n",
       "\n",
       "    .dataframe tbody tr th {\n",
       "        vertical-align: top;\n",
       "    }\n",
       "\n",
       "    .dataframe thead th {\n",
       "        text-align: right;\n",
       "    }\n",
       "</style>\n",
       "<table border=\"1\" class=\"dataframe\">\n",
       "  <thead>\n",
       "    <tr style=\"text-align: right;\">\n",
       "      <th></th>\n",
       "      <th>feature</th>\n",
       "      <th>coefficient</th>\n",
       "    </tr>\n",
       "  </thead>\n",
       "  <tbody>\n",
       "    <tr>\n",
       "      <th>3</th>\n",
       "      <td>TractSNAP_percent</td>\n",
       "      <td>16.266496</td>\n",
       "    </tr>\n",
       "    <tr>\n",
       "      <th>0</th>\n",
       "      <td>LowIncomeTracts</td>\n",
       "      <td>9.766421</td>\n",
       "    </tr>\n",
       "    <tr>\n",
       "      <th>2</th>\n",
       "      <td>HUNVFlag</td>\n",
       "      <td>4.887343</td>\n",
       "    </tr>\n",
       "    <tr>\n",
       "      <th>1</th>\n",
       "      <td>LATracts1</td>\n",
       "      <td>-0.475046</td>\n",
       "    </tr>\n",
       "  </tbody>\n",
       "</table>\n",
       "</div>"
      ],
      "text/plain": [
       "             feature  coefficient\n",
       "3  TractSNAP_percent    16.266496\n",
       "0    LowIncomeTracts     9.766421\n",
       "2           HUNVFlag     4.887343\n",
       "1          LATracts1    -0.475046"
      ]
     },
     "execution_count": 18,
     "metadata": {},
     "output_type": "execute_result"
    }
   ],
   "source": [
    "linear_fit(food_obesity, cols_1_mile, 'HCSOBP_2016-2018')"
   ]
  },
  {
   "cell_type": "markdown",
   "id": "7e6a8cc1-d0eb-4e39-950e-a97a3e988e3f",
   "metadata": {},
   "source": [
    "We see about 15% improvement over baseline.  SNAP percentage and the Low Income flag are the most useful predictors.  Food access within 1 mile appears to be a poor predictor."
   ]
  },
  {
   "cell_type": "markdown",
   "id": "efd12011-e38a-489b-9895-bfafeecf6851",
   "metadata": {
    "tags": []
   },
   "source": [
    "### *Predicting obesity with half-mile food access data* ###"
   ]
  },
  {
   "cell_type": "code",
   "execution_count": 19,
   "id": "c4c505bb-d6f0-401c-a2aa-302d010bf2a3",
   "metadata": {},
   "outputs": [],
   "source": [
    "cols_half_mile = ['LowIncomeTracts', 'LATracts_half', 'HUNVFlag', 'TractSNAP_percent']"
   ]
  },
  {
   "cell_type": "code",
   "execution_count": 20,
   "id": "28a2c900-b58a-4fae-9f5a-8d819c542540",
   "metadata": {},
   "outputs": [
    {
     "name": "stdout",
     "output_type": "stream",
     "text": [
      "Training R2: 0.3783168689440378\n",
      "Testing R2: 0.32958420271894395\n",
      "Baseline RMSE: 11.0220858983688\n",
      "Regression RMSE: 9.024765186122835\n",
      "Improvement over baseline: 1.9973207122459655\n",
      "Proportional improvement: 0.181210773592461\n"
     ]
    },
    {
     "data": {
      "text/html": [
       "<div>\n",
       "<style scoped>\n",
       "    .dataframe tbody tr th:only-of-type {\n",
       "        vertical-align: middle;\n",
       "    }\n",
       "\n",
       "    .dataframe tbody tr th {\n",
       "        vertical-align: top;\n",
       "    }\n",
       "\n",
       "    .dataframe thead th {\n",
       "        text-align: right;\n",
       "    }\n",
       "</style>\n",
       "<table border=\"1\" class=\"dataframe\">\n",
       "  <thead>\n",
       "    <tr style=\"text-align: right;\">\n",
       "      <th></th>\n",
       "      <th>feature</th>\n",
       "      <th>coefficient</th>\n",
       "    </tr>\n",
       "  </thead>\n",
       "  <tbody>\n",
       "    <tr>\n",
       "      <th>3</th>\n",
       "      <td>TractSNAP_percent</td>\n",
       "      <td>17.591663</td>\n",
       "    </tr>\n",
       "    <tr>\n",
       "      <th>0</th>\n",
       "      <td>LowIncomeTracts</td>\n",
       "      <td>10.073910</td>\n",
       "    </tr>\n",
       "    <tr>\n",
       "      <th>1</th>\n",
       "      <td>LATracts_half</td>\n",
       "      <td>6.430744</td>\n",
       "    </tr>\n",
       "    <tr>\n",
       "      <th>2</th>\n",
       "      <td>HUNVFlag</td>\n",
       "      <td>-0.246612</td>\n",
       "    </tr>\n",
       "  </tbody>\n",
       "</table>\n",
       "</div>"
      ],
      "text/plain": [
       "             feature  coefficient\n",
       "3  TractSNAP_percent    17.591663\n",
       "0    LowIncomeTracts    10.073910\n",
       "1      LATracts_half     6.430744\n",
       "2           HUNVFlag    -0.246612"
      ]
     },
     "execution_count": 20,
     "metadata": {},
     "output_type": "execute_result"
    }
   ],
   "source": [
    "linear_fit(food_obesity, cols_half_mile, 'HCSOBP_2016-2018')"
   ]
  },
  {
   "cell_type": "markdown",
   "id": "f1dc4879-834c-411e-bb28-ddb0bf81e135",
   "metadata": {
    "tags": []
   },
   "source": [
    "We see about 18% improvement over baseline. SNAP percentage and the Low Income flag are the most useful predictors.  Food access within a half mile appears to be a much better predictor than access within 1 mile."
   ]
  },
  {
   "cell_type": "markdown",
   "id": "cb50d096-28c5-4a57-a0f6-49acfab4534a",
   "metadata": {
    "tags": []
   },
   "source": [
    "### *Predicting diabetes with 1-mile food access data* ###"
   ]
  },
  {
   "cell_type": "code",
   "execution_count": 21,
   "id": "91719cf7-d7ca-4c09-b64b-0493c5e9739b",
   "metadata": {},
   "outputs": [
    {
     "name": "stdout",
     "output_type": "stream",
     "text": [
      "Training R2: 0.16989347897522222\n",
      "Testing R2: 0.26334518862607115\n",
      "Baseline RMSE: 3.5541007131375\n",
      "Regression RMSE: 3.050434788560699\n",
      "Improvement over baseline: 0.5036659245768011\n",
      "Proportional improvement: 0.1417140270434749\n"
     ]
    },
    {
     "data": {
      "text/html": [
       "<div>\n",
       "<style scoped>\n",
       "    .dataframe tbody tr th:only-of-type {\n",
       "        vertical-align: middle;\n",
       "    }\n",
       "\n",
       "    .dataframe tbody tr th {\n",
       "        vertical-align: top;\n",
       "    }\n",
       "\n",
       "    .dataframe thead th {\n",
       "        text-align: right;\n",
       "    }\n",
       "</style>\n",
       "<table border=\"1\" class=\"dataframe\">\n",
       "  <thead>\n",
       "    <tr style=\"text-align: right;\">\n",
       "      <th></th>\n",
       "      <th>feature</th>\n",
       "      <th>coefficient</th>\n",
       "    </tr>\n",
       "  </thead>\n",
       "  <tbody>\n",
       "    <tr>\n",
       "      <th>0</th>\n",
       "      <td>LowIncomeTracts</td>\n",
       "      <td>2.957291</td>\n",
       "    </tr>\n",
       "    <tr>\n",
       "      <th>1</th>\n",
       "      <td>LATracts1</td>\n",
       "      <td>1.054966</td>\n",
       "    </tr>\n",
       "    <tr>\n",
       "      <th>2</th>\n",
       "      <td>HUNVFlag</td>\n",
       "      <td>0.937767</td>\n",
       "    </tr>\n",
       "    <tr>\n",
       "      <th>3</th>\n",
       "      <td>TractSNAP_percent</td>\n",
       "      <td>-2.248496</td>\n",
       "    </tr>\n",
       "  </tbody>\n",
       "</table>\n",
       "</div>"
      ],
      "text/plain": [
       "             feature  coefficient\n",
       "0    LowIncomeTracts     2.957291\n",
       "1          LATracts1     1.054966\n",
       "2           HUNVFlag     0.937767\n",
       "3  TractSNAP_percent    -2.248496"
      ]
     },
     "execution_count": 21,
     "metadata": {},
     "output_type": "execute_result"
    }
   ],
   "source": [
    "linear_fit(food_diabetes, cols_1_mile, 'HCSDIAP_2016-2018')"
   ]
  },
  {
   "cell_type": "markdown",
   "id": "5bd63b0b-b8eb-402b-a82f-fa90d5c40fa9",
   "metadata": {},
   "source": [
    "We see about 14% improvement over baseline.  Low Income flag is the most useful predictor.  Food access within 1 mile is also a good predictor."
   ]
  },
  {
   "cell_type": "markdown",
   "id": "45e8df49-5c4f-4d65-bad2-1ef8736af9c3",
   "metadata": {
    "tags": []
   },
   "source": [
    "### *Predicting diabetes with half-mile food access data* ###"
   ]
  },
  {
   "cell_type": "code",
   "execution_count": 22,
   "id": "09c13b09-158a-4e39-8aed-58f949fb4452",
   "metadata": {},
   "outputs": [
    {
     "name": "stdout",
     "output_type": "stream",
     "text": [
      "Training R2: 0.2097004066954048\n",
      "Testing R2: 0.2745535522896497\n",
      "Baseline RMSE: 3.5541007131375\n",
      "Regression RMSE: 3.0271393221151346\n",
      "Improvement over baseline: 0.5269613910223656\n",
      "Proportional improvement: 0.14826855892813826\n"
     ]
    },
    {
     "data": {
      "text/html": [
       "<div>\n",
       "<style scoped>\n",
       "    .dataframe tbody tr th:only-of-type {\n",
       "        vertical-align: middle;\n",
       "    }\n",
       "\n",
       "    .dataframe tbody tr th {\n",
       "        vertical-align: top;\n",
       "    }\n",
       "\n",
       "    .dataframe thead th {\n",
       "        text-align: right;\n",
       "    }\n",
       "</style>\n",
       "<table border=\"1\" class=\"dataframe\">\n",
       "  <thead>\n",
       "    <tr style=\"text-align: right;\">\n",
       "      <th></th>\n",
       "      <th>feature</th>\n",
       "      <th>coefficient</th>\n",
       "    </tr>\n",
       "  </thead>\n",
       "  <tbody>\n",
       "    <tr>\n",
       "      <th>0</th>\n",
       "      <td>LowIncomeTracts</td>\n",
       "      <td>3.102989</td>\n",
       "    </tr>\n",
       "    <tr>\n",
       "      <th>1</th>\n",
       "      <td>LATracts_half</td>\n",
       "      <td>2.030085</td>\n",
       "    </tr>\n",
       "    <tr>\n",
       "      <th>2</th>\n",
       "      <td>HUNVFlag</td>\n",
       "      <td>-0.579829</td>\n",
       "    </tr>\n",
       "    <tr>\n",
       "      <th>3</th>\n",
       "      <td>TractSNAP_percent</td>\n",
       "      <td>-2.511129</td>\n",
       "    </tr>\n",
       "  </tbody>\n",
       "</table>\n",
       "</div>"
      ],
      "text/plain": [
       "             feature  coefficient\n",
       "0    LowIncomeTracts     3.102989\n",
       "1      LATracts_half     2.030085\n",
       "2           HUNVFlag    -0.579829\n",
       "3  TractSNAP_percent    -2.511129"
      ]
     },
     "execution_count": 22,
     "metadata": {},
     "output_type": "execute_result"
    }
   ],
   "source": [
    "linear_fit(food_diabetes, cols_half_mile, 'HCSDIAP_2016-2018')"
   ]
  },
  {
   "cell_type": "markdown",
   "id": "21853edb-919e-41eb-bbd9-062d4aad1cbf",
   "metadata": {
    "tags": []
   },
   "source": [
    "We see about 15% improvement over baseline. The Low Income flag is again the most useful predictors.  Food access within a half mile appears to be a better predictor than access within 1 mile."
   ]
  },
  {
   "cell_type": "markdown",
   "id": "bb9c3025-55dd-4d5e-93c7-3ac0cfcf977c",
   "metadata": {},
   "source": [
    "Overall, the food access data is better at predicting obesity than diabetes.  Also, food access within a half mile is consistently better at predicting both obesity and diabetes than food access within 1 mile.  This analysis suggests that the Low Income Flag and Food Access Within a Half Mile are good features to use for food desert identification."
   ]
  }
 ],
 "metadata": {
  "kernelspec": {
   "display_name": "Python 3 (ipykernel)",
   "language": "python",
   "name": "python3"
  },
  "language_info": {
   "codemirror_mode": {
    "name": "ipython",
    "version": 3
   },
   "file_extension": ".py",
   "mimetype": "text/x-python",
   "name": "python",
   "nbconvert_exporter": "python",
   "pygments_lexer": "ipython3",
   "version": "3.8.12"
  }
 },
 "nbformat": 4,
 "nbformat_minor": 5
}
