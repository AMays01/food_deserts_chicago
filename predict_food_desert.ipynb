{
 "cells": [
  {
   "cell_type": "markdown",
   "id": "01a4f542-fafc-4b5c-a3eb-a0e1f188992b",
   "metadata": {},
   "source": [
    "# In this notebook, we will use the obesity, diabetes, low access to vehicles, and low income to predict whether a census tract has low access to healthy food. #\n"
   ]
  },
  {
   "cell_type": "code",
   "execution_count": 2,
   "id": "f1a3a331-33b9-4261-a26d-b38d0492d84b",
   "metadata": {},
   "outputs": [],
   "source": [
    "import numpy as np\n",
    "import pandas as pd\n",
    "\n",
    "from sklearn.model_selection import train_test_split, cross_val_score\n",
    "from sklearn.linear_model import LogisticRegression\n",
    "from sklearn.preprocessing import StandardScaler\n",
    "from sklearn.metrics import classification_report, plot_confusion_matrix, recall_score"
   ]
  },
  {
   "cell_type": "code",
   "execution_count": 3,
   "id": "f556e7f4-d6c1-4f17-bea5-1abba64df4f1",
   "metadata": {},
   "outputs": [],
   "source": [
    "food_obesity = pd.read_csv('./data/food_obesity.csv')\n",
    "food_diabetes = pd.read_csv('./data/food_diabetes.csv')"
   ]
  },
  {
   "cell_type": "code",
   "execution_count": 4,
   "id": "c77047d2-fe62-49a4-bb5b-7b96a0ea3f8c",
   "metadata": {},
   "outputs": [],
   "source": [
    "# Convert from raw SNAP participation numbers to percent participation.\n",
    "food_obesity['TractSNAP_percent'] = food_obesity['TractSNAP'] / food_obesity['Pop2010']\n",
    "food_diabetes['TractSNAP_percent'] = food_diabetes['TractSNAP'] / food_diabetes['Pop2010']"
   ]
  },
  {
   "cell_type": "code",
   "execution_count": 4,
   "id": "87dfbc02-69e6-425c-b03f-9a91681d38fe",
   "metadata": {},
   "outputs": [
    {
     "data": {
      "text/plain": [
       "((784, 36), (729, 40))"
      ]
     },
     "execution_count": 4,
     "metadata": {},
     "output_type": "execute_result"
    }
   ],
   "source": [
    "food_obesity.shape, food_diabetes.shape"
   ]
  },
  {
   "cell_type": "code",
   "execution_count": 5,
   "id": "6eec3c15-54cb-462b-bbe5-b7b45f2bb3c1",
   "metadata": {
    "tags": []
   },
   "outputs": [],
   "source": [
    "food_obesity_diabetes = food_obesity.merge(food_diabetes[['Tract', 'HCSDIAP_2016-2018']], how = 'right', on = 'Tract')"
   ]
  },
  {
   "cell_type": "code",
   "execution_count": 6,
   "id": "83e92cef-6281-42a4-9a49-3a41212f60f2",
   "metadata": {},
   "outputs": [],
   "source": [
    "food_obesity_diabetes.to_csv('./data/food_obesity_diabetes.csv')"
   ]
  },
  {
   "cell_type": "code",
   "execution_count": 7,
   "id": "78faa6f2-d9b3-426c-82dd-e6cb84914279",
   "metadata": {},
   "outputs": [],
   "source": [
    "baseline = food_obesity_diabetes['LATracts_half'].value_counts(normalize = True)"
   ]
  },
  {
   "cell_type": "code",
   "execution_count": 8,
   "id": "4d108e28-f6be-4fc9-b4f1-6ec2c30edb83",
   "metadata": {},
   "outputs": [
    {
     "data": {
      "text/plain": [
       "0    0.640604\n",
       "1    0.359396\n",
       "Name: LATracts_half, dtype: float64"
      ]
     },
     "execution_count": 8,
     "metadata": {},
     "output_type": "execute_result"
    }
   ],
   "source": [
    "baseline"
   ]
  },
  {
   "cell_type": "code",
   "execution_count": 9,
   "id": "f1c39b8f-f249-4e4b-91fb-36a648726a15",
   "metadata": {},
   "outputs": [],
   "source": [
    "baseline_acc = baseline[0]"
   ]
  },
  {
   "cell_type": "markdown",
   "id": "1c428931-9065-4527-8435-d193ee9d4f68",
   "metadata": {},
   "source": [
    "#### Baseline accuracy is 64%"
   ]
  },
  {
   "cell_type": "code",
   "execution_count": 10,
   "id": "10c4d335-2902-4897-a5b7-624512b77032",
   "metadata": {
    "tags": []
   },
   "outputs": [],
   "source": [
    "def log_regression_fit(df, features, target):\n",
    "    \n",
    "    '''\n",
    "    This function will fits a logistic regression model\n",
    "    df: dataframe\n",
    "    features: list of features\n",
    "    target: string of target name\n",
    "    '''\n",
    "    \n",
    "    # set up train and test data\n",
    "    X = df[features]\n",
    "    y = df[target]\n",
    "    \n",
    "    X_train, X_test, y_train, y_test = train_test_split(X, y, random_state = 3224, stratify = y)\n",
    "    \n",
    "    # scale the model\n",
    "    sc = StandardScaler()\n",
    "    X_train = sc.fit_transform(X_train)\n",
    "    X_test = sc.transform(X_test)\n",
    "    \n",
    "    # fit the model\n",
    "    logreg = LogisticRegression()\n",
    "    logreg.fit(X_train, y_train)\n",
    "    \n",
    "    #calculate predictions\n",
    "    preds = logreg.predict(X_test)\n",
    "    \n",
    "    # Print metrics\n",
    "    print(f'Trainining accuracy score: {logreg.score(X_train, y_train)}')\n",
    "    print(f'Training accuracy cross val score: {cross_val_score(logreg, X_train, y_train, cv = 5).mean()}')\n",
    "    print(f'Testing accuracy score: {logreg.score(X_test, y_test)}')\n",
    "    print(f'Testing accuracy cross val score: {cross_val_score(logreg, X_test, y_test, cv = 5).mean()}')\n",
    "    print('---')\n",
    "    print(f'Baseline accuracy: {baseline_acc}')\n",
    "    print(f'Improvement over baseline: {logreg.score(X_test, y_test) - baseline_acc}')\n",
    "    print('---')\n",
    "    print(classification_report(y_test, preds))\n",
    "    print('---')\n",
    "    plot_confusion_matrix(logreg, X_test, y_test, cmap = 'viridis', values_format = 'd');\n",
    "    return \n",
    "    "
   ]
  },
  {
   "cell_type": "code",
   "execution_count": 11,
   "id": "e04622f1-1e01-41f6-9683-4620ae6d485d",
   "metadata": {},
   "outputs": [],
   "source": [
    "features_half_mile = ['LowIncomeTracts', 'HUNVFlag', 'TractSNAP_percent', 'HCSOBP_2016-2018', 'HCSDIAP_2016-2018']"
   ]
  },
  {
   "cell_type": "code",
   "execution_count": 12,
   "id": "082d7738-9711-4cba-9978-870a0e74b92a",
   "metadata": {},
   "outputs": [
    {
     "name": "stdout",
     "output_type": "stream",
     "text": [
      "Trainining accuracy score: 0.8388278388278388\n",
      "Training accuracy cross val score: 0.8424520433694745\n",
      "Testing accuracy score: 0.8524590163934426\n",
      "Testing accuracy cross val score: 0.8524024024024023\n",
      "---\n",
      "Baseline accuracy: 0.6406035665294925\n",
      "Improvement over baseline: 0.2118554498639501\n",
      "---\n",
      "              precision    recall  f1-score   support\n",
      "\n",
      "           0       0.83      0.97      0.89       117\n",
      "           1       0.91      0.65      0.76        66\n",
      "\n",
      "    accuracy                           0.85       183\n",
      "   macro avg       0.87      0.81      0.83       183\n",
      "weighted avg       0.86      0.85      0.85       183\n",
      "\n",
      "---\n"
     ]
    },
    {
     "data": {
      "image/png": "[encoded data removed]",
      "text/plain": [
       "<Figure size 432x288 with 2 Axes>"
      ]
     },
     "metadata": {
      "needs_background": "light"
     },
     "output_type": "display_data"
    }
   ],
   "source": [
    "log_regression_fit(food_obesity_diabetes, features_half_mile, 'LATracts_half')"
   ]
  },
  {
   "cell_type": "markdown",
   "id": "4ed781c9-bcef-426a-bb67-664342b8d585",
   "metadata": {},
   "source": [
    "* Model is performing at 21% over baseline. \n",
    "* The model is slightly underfit. There is room to add more complexity and features.\n",
    "* recall rate is 65% - percentage of actual low food access tracts that were correctly identified\n",
    "* precision rate is 83% - percentage of actual no low food access tracts that were correctly identified\n"
   ]
  }
 ],
 "metadata": {
  "kernelspec": {
   "display_name": "Python 3 (ipykernel)",
   "language": "python",
   "name": "python3"
  },
  "language_info": {
   "codemirror_mode": {
    "name": "ipython",
    "version": 3
   },
   "file_extension": ".py",
   "mimetype": "text/x-python",
   "name": "python",
   "nbconvert_exporter": "python",
   "pygments_lexer": "ipython3",
   "version": "3.8.12"
  }
 },
 "nbformat": 4,
 "nbformat_minor": 5
}
