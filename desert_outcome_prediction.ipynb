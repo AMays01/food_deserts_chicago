{
 "cells": [
  {
   "cell_type": "markdown",
   "id": "0cee742d-3a8b-4865-94f1-0e83dc862591",
   "metadata": {},
   "source": [
    "# In this notebook, we use different food access factors to predict outcomes related to food deserts in order to identify the most important features for labelling a food desert. #"
   ]
  },
  {
   "cell_type": "code",
   "execution_count": 30,
   "id": "eff26753-2c2a-497d-9218-316de4581000",
   "metadata": {},
   "outputs": [],
   "source": [
    "import numpy as np\n",
    "import pandas as pd\n",
    "\n",
    "from sklearn.model_selection import train_test_split\n",
    "from sklearn.linear_model import LinearRegression\n",
    "from sklearn.metrics import mean_squared_error"
   ]
  },
  {
   "cell_type": "code",
   "execution_count": 8,
   "id": "d0596c58-85db-4280-8132-efd8a743ae27",
   "metadata": {},
   "outputs": [],
   "source": [
    "food_obesity = pd.read_csv('./data/food_obesity.csv')"
   ]
  },
  {
   "cell_type": "code",
   "execution_count": 14,
   "id": "f899280c-4ceb-4203-ac79-121f1c4c615f",
   "metadata": {},
   "outputs": [],
   "source": [
    "food_obesity['TractSNAP_percent'] = food_obesity['TractSNAP'] / food_obesity['Pop2010']"
   ]
  },
  {
   "cell_type": "code",
   "execution_count": null,
   "id": "32ede8ee-a2fb-4919-80c8-6f4604d24fdf",
   "metadata": {},
   "outputs": [],
   "source": []
  },
  {
   "cell_type": "code",
   "execution_count": null,
   "id": "35de78de-97ba-4dc9-a9e9-2dcf9ebb8b08",
   "metadata": {},
   "outputs": [],
   "source": []
  },
  {
   "cell_type": "markdown",
   "id": "9a889436-ed9e-46a2-b81e-540c8a5354f3",
   "metadata": {
    "tags": []
   },
   "source": [
    "### Predicting obesity with 1-mile food access data ###"
   ]
  },
  {
   "cell_type": "code",
   "execution_count": 15,
   "id": "3eae22cf-f903-41b1-a87c-4c572c9e7966",
   "metadata": {},
   "outputs": [],
   "source": [
    "cols_1_mile = ['LowIncomeTracts', 'LATracts1', 'HUNVFlag', 'TractSNAP_percent']"
   ]
  },
  {
   "cell_type": "code",
   "execution_count": 20,
   "id": "456183a3-6e43-450a-bb79-a89679ff615c",
   "metadata": {},
   "outputs": [],
   "source": [
    "X = food_obesity[cols_1_mile]\n",
    "y = food_obesity['HCSOBP_2016-2018']\n",
    "\n",
    "X_train, X_test, y_train, y_test = train_test_split(X, y, random_state=3224)"
   ]
  },
  {
   "cell_type": "code",
   "execution_count": 22,
   "id": "0343496b-8595-42b8-9e69-1b3c3c96d7c7",
   "metadata": {},
   "outputs": [],
   "source": [
    "linreg = LinearRegression()"
   ]
  },
  {
   "cell_type": "code",
   "execution_count": 23,
   "id": "da85b8dd-c1a0-44e4-aa1e-1a4d15672719",
   "metadata": {},
   "outputs": [
    {
     "data": {
      "text/plain": [
       "LinearRegression()"
      ]
     },
     "execution_count": 23,
     "metadata": {},
     "output_type": "execute_result"
    }
   ],
   "source": [
    "linreg.fit(X_train, y_train)"
   ]
  },
  {
   "cell_type": "code",
   "execution_count": 24,
   "id": "3a726bd9-9932-41ac-8f6b-f7669266c0ae",
   "metadata": {},
   "outputs": [
    {
     "data": {
      "text/plain": [
       "0.32764373549260173"
      ]
     },
     "execution_count": 24,
     "metadata": {},
     "output_type": "execute_result"
    }
   ],
   "source": [
    "linreg.score(X_train, y_train)"
   ]
  },
  {
   "cell_type": "code",
   "execution_count": 25,
   "id": "0ff882b1-f6e8-4aa6-8b5c-5d05717ac49c",
   "metadata": {},
   "outputs": [
    {
     "data": {
      "text/plain": [
       "0.288560034822962"
      ]
     },
     "execution_count": 25,
     "metadata": {},
     "output_type": "execute_result"
    }
   ],
   "source": [
    "linreg.score(X_test, y_test)"
   ]
  },
  {
   "cell_type": "code",
   "execution_count": 26,
   "id": "2e75f8b2-2fc6-495b-a67a-ff6df8ad7cac",
   "metadata": {},
   "outputs": [],
   "source": [
    "preds = linreg.predict(X_test)"
   ]
  },
  {
   "cell_type": "code",
   "execution_count": 28,
   "id": "c9b0be9f-941d-46f6-826e-9830cb3778fb",
   "metadata": {},
   "outputs": [],
   "source": [
    "rmse_regression = mean_squared_error(y_test, preds)**0.5"
   ]
  },
  {
   "cell_type": "code",
   "execution_count": 31,
   "id": "0accf90f-089b-42be-a268-6a815ff4aa3e",
   "metadata": {},
   "outputs": [],
   "source": [
    "base_preds = np.ones(196)*y_test.mean()"
   ]
  },
  {
   "cell_type": "code",
   "execution_count": 33,
   "id": "bfc18082-9b66-4a86-903a-1d58b0c0eb74",
   "metadata": {},
   "outputs": [],
   "source": [
    "rmse_base = mean_squared_error(y_test, base_preds)**0.5"
   ]
  },
  {
   "cell_type": "code",
   "execution_count": 34,
   "id": "10be05b1-4354-4f0a-bbed-c638cda9dc1f",
   "metadata": {},
   "outputs": [
    {
     "name": "stdout",
     "output_type": "stream",
     "text": [
      "Baseline RMSE: 11.0220858983688\n",
      "Regression RMSE: 9.296787843894386\n",
      "Improvement over baseline: 1.7252980544744148\n",
      "Proportional improvement: 0.1565309933512447\n"
     ]
    }
   ],
   "source": [
    "print(f'Baseline RMSE: {rmse_base}')\n",
    "print(f'Regression RMSE: {rmse_regression}')\n",
    "print(f'Improvement over baseline: {rmse_base - rmse_regression}')\n",
    "print(f'Proportional improvement: {(rmse_base - rmse_regression)/rmse_base}')"
   ]
  },
  {
   "cell_type": "markdown",
   "id": "7e6a8cc1-d0eb-4e39-950e-a97a3e988e3f",
   "metadata": {},
   "source": [
    "We see about 15% improvement over baseline."
   ]
  },
  {
   "cell_type": "code",
   "execution_count": 35,
   "id": "31f0607a-8273-4d51-88f8-3395a3c26dbe",
   "metadata": {},
   "outputs": [
    {
     "data": {
      "text/html": [
       "<div>\n",
       "<style scoped>\n",
       "    .dataframe tbody tr th:only-of-type {\n",
       "        vertical-align: middle;\n",
       "    }\n",
       "\n",
       "    .dataframe tbody tr th {\n",
       "        vertical-align: top;\n",
       "    }\n",
       "\n",
       "    .dataframe thead th {\n",
       "        text-align: right;\n",
       "    }\n",
       "</style>\n",
       "<table border=\"1\" class=\"dataframe\">\n",
       "  <thead>\n",
       "    <tr style=\"text-align: right;\">\n",
       "      <th></th>\n",
       "      <th>feature</th>\n",
       "      <th>coefficient</th>\n",
       "    </tr>\n",
       "  </thead>\n",
       "  <tbody>\n",
       "    <tr>\n",
       "      <th>3</th>\n",
       "      <td>TractSNAP_percent</td>\n",
       "      <td>16.266496</td>\n",
       "    </tr>\n",
       "    <tr>\n",
       "      <th>0</th>\n",
       "      <td>LowIncomeTracts</td>\n",
       "      <td>9.766421</td>\n",
       "    </tr>\n",
       "    <tr>\n",
       "      <th>2</th>\n",
       "      <td>HUNVFlag</td>\n",
       "      <td>4.887343</td>\n",
       "    </tr>\n",
       "    <tr>\n",
       "      <th>1</th>\n",
       "      <td>LATracts1</td>\n",
       "      <td>-0.475046</td>\n",
       "    </tr>\n",
       "  </tbody>\n",
       "</table>\n",
       "</div>"
      ],
      "text/plain": [
       "             feature  coefficient\n",
       "3  TractSNAP_percent    16.266496\n",
       "0    LowIncomeTracts     9.766421\n",
       "2           HUNVFlag     4.887343\n",
       "1          LATracts1    -0.475046"
      ]
     },
     "execution_count": 35,
     "metadata": {},
     "output_type": "execute_result"
    }
   ],
   "source": [
    "pd.DataFrame(zip(linreg.feature_names_in_, linreg.coef_), columns=['feature', 'coefficient']).sort_values(by='coefficient', ascending=False)"
   ]
  },
  {
   "cell_type": "markdown",
   "id": "e16694c4-0944-4603-ac2e-ad5ebcb244f4",
   "metadata": {},
   "source": [
    "SNAP percentage and the Low Income flag are the most useful predictors.  Food access within 1 mile appears to be a poor predictor."
   ]
  },
  {
   "cell_type": "markdown",
   "id": "efd12011-e38a-489b-9895-bfafeecf6851",
   "metadata": {
    "tags": []
   },
   "source": [
    "### Predicting obesity with half-mile food access data ###"
   ]
  },
  {
   "cell_type": "code",
   "execution_count": 36,
   "id": "c4c505bb-d6f0-401c-a2aa-302d010bf2a3",
   "metadata": {},
   "outputs": [],
   "source": [
    "cols_half_mile = ['LowIncomeTracts', 'LATracts_half', 'HUNVFlag', 'TractSNAP_percent']"
   ]
  },
  {
   "cell_type": "code",
   "execution_count": 37,
   "id": "d7652f77-2006-4f7c-84c0-5c3e7a8126d8",
   "metadata": {},
   "outputs": [],
   "source": [
    "X = food_obesity[cols_half_mile]\n",
    "y = food_obesity['HCSOBP_2016-2018']\n",
    "\n",
    "X_train, X_test, y_train, y_test = train_test_split(X, y, random_state=3224)"
   ]
  },
  {
   "cell_type": "code",
   "execution_count": 38,
   "id": "766ed826-dc01-455e-9765-641fd471351b",
   "metadata": {},
   "outputs": [
    {
     "data": {
      "text/plain": [
       "LinearRegression()"
      ]
     },
     "execution_count": 38,
     "metadata": {},
     "output_type": "execute_result"
    }
   ],
   "source": [
    "linreg.fit(X_train, y_train)"
   ]
  },
  {
   "cell_type": "code",
   "execution_count": 39,
   "id": "a1e0d492-d5cb-4b3a-9d4c-93c2b18d731d",
   "metadata": {},
   "outputs": [
    {
     "data": {
      "text/plain": [
       "0.3783168689440378"
      ]
     },
     "execution_count": 39,
     "metadata": {},
     "output_type": "execute_result"
    }
   ],
   "source": [
    "linreg.score(X_train, y_train)"
   ]
  },
  {
   "cell_type": "code",
   "execution_count": 40,
   "id": "e6d141ea-bb68-4884-a43f-e82fe15cc45f",
   "metadata": {},
   "outputs": [
    {
     "data": {
      "text/plain": [
       "0.32958420271894395"
      ]
     },
     "execution_count": 40,
     "metadata": {},
     "output_type": "execute_result"
    }
   ],
   "source": [
    "linreg.score(X_test, y_test)"
   ]
  },
  {
   "cell_type": "code",
   "execution_count": 41,
   "id": "e4ede436-9324-478b-abb9-c938e1f3527a",
   "metadata": {},
   "outputs": [],
   "source": [
    "preds = linreg.predict(X_test)"
   ]
  },
  {
   "cell_type": "code",
   "execution_count": 42,
   "id": "4fb51d05-582b-4a17-81b2-b71d21e821bf",
   "metadata": {},
   "outputs": [],
   "source": [
    "rmse_regression = mean_squared_error(y_test, preds)**0.5"
   ]
  },
  {
   "cell_type": "code",
   "execution_count": 43,
   "id": "ac8cf2d3-e4b9-4bf8-bbbc-5972e91be9fc",
   "metadata": {},
   "outputs": [],
   "source": [
    "base_preds = np.ones(196)*y_test.mean()"
   ]
  },
  {
   "cell_type": "code",
   "execution_count": 44,
   "id": "0d37bf0e-63c7-4c6f-a644-7fd5f1712532",
   "metadata": {},
   "outputs": [],
   "source": [
    "rmse_base = mean_squared_error(y_test, base_preds)**0.5"
   ]
  },
  {
   "cell_type": "code",
   "execution_count": 45,
   "id": "158197b3-f30a-4056-b0a0-38c0a37b2a07",
   "metadata": {},
   "outputs": [
    {
     "name": "stdout",
     "output_type": "stream",
     "text": [
      "Baseline RMSE: 11.0220858983688\n",
      "Regression RMSE: 9.024765186122835\n",
      "Improvement over baseline: 1.9973207122459655\n",
      "Proportional improvement: 0.181210773592461\n"
     ]
    }
   ],
   "source": [
    "print(f'Baseline RMSE: {rmse_base}')\n",
    "print(f'Regression RMSE: {rmse_regression}')\n",
    "print(f'Improvement over baseline: {rmse_base - rmse_regression}')\n",
    "print(f'Proportional improvement: {(rmse_base - rmse_regression)/rmse_base}')"
   ]
  },
  {
   "cell_type": "markdown",
   "id": "f1dc4879-834c-411e-bb28-ddb0bf81e135",
   "metadata": {},
   "source": [
    "We see about 18% improvement over baseline."
   ]
  },
  {
   "cell_type": "code",
   "execution_count": 46,
   "id": "8b2f228a-f49b-4ef0-a582-d8be4e96bdec",
   "metadata": {},
   "outputs": [
    {
     "data": {
      "text/html": [
       "<div>\n",
       "<style scoped>\n",
       "    .dataframe tbody tr th:only-of-type {\n",
       "        vertical-align: middle;\n",
       "    }\n",
       "\n",
       "    .dataframe tbody tr th {\n",
       "        vertical-align: top;\n",
       "    }\n",
       "\n",
       "    .dataframe thead th {\n",
       "        text-align: right;\n",
       "    }\n",
       "</style>\n",
       "<table border=\"1\" class=\"dataframe\">\n",
       "  <thead>\n",
       "    <tr style=\"text-align: right;\">\n",
       "      <th></th>\n",
       "      <th>feature</th>\n",
       "      <th>coefficient</th>\n",
       "    </tr>\n",
       "  </thead>\n",
       "  <tbody>\n",
       "    <tr>\n",
       "      <th>3</th>\n",
       "      <td>TractSNAP_percent</td>\n",
       "      <td>17.591663</td>\n",
       "    </tr>\n",
       "    <tr>\n",
       "      <th>0</th>\n",
       "      <td>LowIncomeTracts</td>\n",
       "      <td>10.073910</td>\n",
       "    </tr>\n",
       "    <tr>\n",
       "      <th>1</th>\n",
       "      <td>LATracts_half</td>\n",
       "      <td>6.430744</td>\n",
       "    </tr>\n",
       "    <tr>\n",
       "      <th>2</th>\n",
       "      <td>HUNVFlag</td>\n",
       "      <td>-0.246612</td>\n",
       "    </tr>\n",
       "  </tbody>\n",
       "</table>\n",
       "</div>"
      ],
      "text/plain": [
       "             feature  coefficient\n",
       "3  TractSNAP_percent    17.591663\n",
       "0    LowIncomeTracts    10.073910\n",
       "1      LATracts_half     6.430744\n",
       "2           HUNVFlag    -0.246612"
      ]
     },
     "execution_count": 46,
     "metadata": {},
     "output_type": "execute_result"
    }
   ],
   "source": [
    "pd.DataFrame(zip(linreg.feature_names_in_, linreg.coef_), columns=['feature', 'coefficient']).sort_values(by='coefficient', ascending=False)"
   ]
  },
  {
   "cell_type": "markdown",
   "id": "69e56a13-e102-4a7a-81cf-80a37802591c",
   "metadata": {},
   "source": [
    "SNAP percentage and the Low Income flag are the most useful predictors.  Food access within a half mile appears to be a much better predictor than access within 1 mile."
   ]
  },
  {
   "cell_type": "code",
   "execution_count": null,
   "id": "86c5e7ff-d45b-4af0-9af0-092fa09a8116",
   "metadata": {},
   "outputs": [],
   "source": []
  },
  {
   "cell_type": "code",
   "execution_count": null,
   "id": "91719cf7-d7ca-4c09-b64b-0493c5e9739b",
   "metadata": {},
   "outputs": [],
   "source": []
  }
 ],
 "metadata": {
  "kernelspec": {
   "display_name": "Python 3 (ipykernel)",
   "language": "python",
   "name": "python3"
  },
  "language_info": {
   "codemirror_mode": {
    "name": "ipython",
    "version": 3
   },
   "file_extension": ".py",
   "mimetype": "text/x-python",
   "name": "python",
   "nbconvert_exporter": "python",
   "pygments_lexer": "ipython3",
   "version": "3.8.12"
  }
 },
 "nbformat": 4,
 "nbformat_minor": 5
}
