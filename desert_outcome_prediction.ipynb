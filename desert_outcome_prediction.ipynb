{
 "cells": [
  {
   "cell_type": "markdown",
   "id": "0cee742d-3a8b-4865-94f1-0e83dc862591",
   "metadata": {},
   "source": [
    "# In this notebook, we use different food access factors to predict outcomes related to food deserts in order to identify the most important features for labelling a food desert. #"
   ]
  },
  {
   "cell_type": "code",
   "execution_count": 1,
   "id": "eff26753-2c2a-497d-9218-316de4581000",
   "metadata": {},
   "outputs": [],
   "source": [
    "import numpy as np\n",
    "import pandas as pd\n",
    "\n",
    "from sklearn.model_selection import train_test_split\n",
    "from sklearn.linear_model import LinearRegression\n",
    "from sklearn.metrics import mean_squared_error"
   ]
  },
  {
   "cell_type": "code",
   "execution_count": 2,
   "id": "d0596c58-85db-4280-8132-efd8a743ae27",
   "metadata": {},
   "outputs": [],
   "source": [
    "food_obesity = pd.read_csv('./data/food_obesity.csv')"
   ]
  },
  {
   "cell_type": "code",
   "execution_count": 3,
   "id": "4fa9f8a7-7f1c-486c-bcb1-9589465a812f",
   "metadata": {},
   "outputs": [],
   "source": [
    "food_diabetes = pd.read_csv('./data/food_diabetes.csv')"
   ]
  },
  {
   "cell_type": "code",
   "execution_count": 4,
   "id": "f899280c-4ceb-4203-ac79-121f1c4c615f",
   "metadata": {},
   "outputs": [],
   "source": [
    "food_obesity['TractSNAP_percent'] = food_obesity['TractSNAP'] / food_obesity['Pop2010']"
   ]
  },
  {
   "cell_type": "code",
   "execution_count": 5,
   "id": "407e6282-a829-4f01-a32c-99c535febb93",
   "metadata": {},
   "outputs": [],
   "source": [
    "food_diabetes['TractSNAP_percent'] = food_diabetes['TractSNAP'] / food_diabetes['Pop2010']"
   ]
  },
  {
   "cell_type": "code",
   "execution_count": 16,
   "id": "32ede8ee-a2fb-4919-80c8-6f4604d24fdf",
   "metadata": {},
   "outputs": [],
   "source": [
    "def linear_fit(df, features, target):\n",
    "    \n",
    "    # Set up train and test data.\n",
    "    X = df[features]\n",
    "    y = df[target]\n",
    "    X_train, X_test, y_train, y_test = train_test_split(X, y, random_state=3224)\n",
    "    \n",
    "    # Fit the model.\n",
    "    linreg = LinearRegression()\n",
    "    linreg.fit(X_train, y_train)\n",
    "    \n",
    "    # Calculate RMSE for train and test.\n",
    "    preds = linreg.predict(X_test)\n",
    "    rmse_regression = mean_squared_error(y_test, preds)**0.5\n",
    "    base_preds = np.ones(len(y_test))*y_test.mean()\n",
    "    rmse_base = mean_squared_error(y_test, base_preds)**0.5\n",
    "    \n",
    "    # Print metrics and return dataframe that shows the coefficient of each feature.\n",
    "    print(f'Training R2: {linreg.score(X_train, y_train)}')\n",
    "    print(f'Testing R2: {linreg.score(X_test, y_test)}')\n",
    "    print(f'Baseline RMSE: {rmse_base}')\n",
    "    print(f'Regression RMSE: {rmse_regression}')\n",
    "    print(f'Improvement over baseline: {rmse_base - rmse_regression}')\n",
    "    print(f'Proportional improvement: {(rmse_base - rmse_regression)/rmse_base}')\n",
    "    return pd.DataFrame(zip(X_train.columns, linreg.coef_), columns=['feature', 'coefficient']).sort_values(by='coefficient', ascending=False)"
   ]
  },
  {
   "cell_type": "code",
   "execution_count": null,
   "id": "35de78de-97ba-4dc9-a9e9-2dcf9ebb8b08",
   "metadata": {},
   "outputs": [],
   "source": []
  },
  {
   "cell_type": "markdown",
   "id": "9a889436-ed9e-46a2-b81e-540c8a5354f3",
   "metadata": {
    "tags": []
   },
   "source": [
    "### Predicting obesity with 1-mile food access data ###"
   ]
  },
  {
   "cell_type": "code",
   "execution_count": 17,
   "id": "3eae22cf-f903-41b1-a87c-4c572c9e7966",
   "metadata": {},
   "outputs": [],
   "source": [
    "cols_1_mile = ['LowIncomeTracts', 'LATracts1', 'HUNVFlag', 'TractSNAP_percent']"
   ]
  },
  {
   "cell_type": "code",
   "execution_count": 18,
   "id": "b9d4769a-a1d9-4110-926d-81bf88436160",
   "metadata": {},
   "outputs": [
    {
     "name": "stdout",
     "output_type": "stream",
     "text": [
      "Training R2: 0.32764373549260173\n",
      "Testing R2: 0.288560034822962\n",
      "Baseline RMSE: 11.022085898368802\n",
      "Regression RMSE: 9.296787843894386\n",
      "Improvement over baseline: 1.7252980544744165\n",
      "Proportional improvement: 0.15653099335124485\n"
     ]
    },
    {
     "data": {
      "text/html": [
       "<div>\n",
       "<style scoped>\n",
       "    .dataframe tbody tr th:only-of-type {\n",
       "        vertical-align: middle;\n",
       "    }\n",
       "\n",
       "    .dataframe tbody tr th {\n",
       "        vertical-align: top;\n",
       "    }\n",
       "\n",
       "    .dataframe thead th {\n",
       "        text-align: right;\n",
       "    }\n",
       "</style>\n",
       "<table border=\"1\" class=\"dataframe\">\n",
       "  <thead>\n",
       "    <tr style=\"text-align: right;\">\n",
       "      <th></th>\n",
       "      <th>feature</th>\n",
       "      <th>coefficient</th>\n",
       "    </tr>\n",
       "  </thead>\n",
       "  <tbody>\n",
       "    <tr>\n",
       "      <th>3</th>\n",
       "      <td>TractSNAP_percent</td>\n",
       "      <td>16.266496</td>\n",
       "    </tr>\n",
       "    <tr>\n",
       "      <th>0</th>\n",
       "      <td>LowIncomeTracts</td>\n",
       "      <td>9.766421</td>\n",
       "    </tr>\n",
       "    <tr>\n",
       "      <th>2</th>\n",
       "      <td>HUNVFlag</td>\n",
       "      <td>4.887343</td>\n",
       "    </tr>\n",
       "    <tr>\n",
       "      <th>1</th>\n",
       "      <td>LATracts1</td>\n",
       "      <td>-0.475046</td>\n",
       "    </tr>\n",
       "  </tbody>\n",
       "</table>\n",
       "</div>"
      ],
      "text/plain": [
       "             feature  coefficient\n",
       "3  TractSNAP_percent    16.266496\n",
       "0    LowIncomeTracts     9.766421\n",
       "2           HUNVFlag     4.887343\n",
       "1          LATracts1    -0.475046"
      ]
     },
     "execution_count": 18,
     "metadata": {},
     "output_type": "execute_result"
    }
   ],
   "source": [
    "linear_fit(food_obesity, cols_1_mile, 'HCSOBP_2016-2018')"
   ]
  },
  {
   "cell_type": "markdown",
   "id": "7e6a8cc1-d0eb-4e39-950e-a97a3e988e3f",
   "metadata": {},
   "source": [
    "We see about 15% improvement over baseline.  SNAP percentage and the Low Income flag are the most useful predictors.  Food access within 1 mile appears to be a poor predictor."
   ]
  },
  {
   "cell_type": "markdown",
   "id": "efd12011-e38a-489b-9895-bfafeecf6851",
   "metadata": {
    "tags": []
   },
   "source": [
    "### Predicting obesity with half-mile food access data ###"
   ]
  },
  {
   "cell_type": "code",
   "execution_count": 19,
   "id": "c4c505bb-d6f0-401c-a2aa-302d010bf2a3",
   "metadata": {},
   "outputs": [],
   "source": [
    "cols_half_mile = ['LowIncomeTracts', 'LATracts_half', 'HUNVFlag', 'TractSNAP_percent']"
   ]
  },
  {
   "cell_type": "code",
   "execution_count": 20,
   "id": "28a2c900-b58a-4fae-9f5a-8d819c542540",
   "metadata": {},
   "outputs": [
    {
     "name": "stdout",
     "output_type": "stream",
     "text": [
      "Training R2: 0.3783168689440376\n",
      "Testing R2: 0.32958420271894384\n",
      "Baseline RMSE: 11.022085898368802\n",
      "Regression RMSE: 9.024765186122835\n",
      "Improvement over baseline: 1.9973207122459673\n",
      "Proportional improvement: 0.1812107735924611\n"
     ]
    },
    {
     "data": {
      "text/html": [
       "<div>\n",
       "<style scoped>\n",
       "    .dataframe tbody tr th:only-of-type {\n",
       "        vertical-align: middle;\n",
       "    }\n",
       "\n",
       "    .dataframe tbody tr th {\n",
       "        vertical-align: top;\n",
       "    }\n",
       "\n",
       "    .dataframe thead th {\n",
       "        text-align: right;\n",
       "    }\n",
       "</style>\n",
       "<table border=\"1\" class=\"dataframe\">\n",
       "  <thead>\n",
       "    <tr style=\"text-align: right;\">\n",
       "      <th></th>\n",
       "      <th>feature</th>\n",
       "      <th>coefficient</th>\n",
       "    </tr>\n",
       "  </thead>\n",
       "  <tbody>\n",
       "    <tr>\n",
       "      <th>3</th>\n",
       "      <td>TractSNAP_percent</td>\n",
       "      <td>17.591663</td>\n",
       "    </tr>\n",
       "    <tr>\n",
       "      <th>0</th>\n",
       "      <td>LowIncomeTracts</td>\n",
       "      <td>10.073910</td>\n",
       "    </tr>\n",
       "    <tr>\n",
       "      <th>1</th>\n",
       "      <td>LATracts_half</td>\n",
       "      <td>6.430744</td>\n",
       "    </tr>\n",
       "    <tr>\n",
       "      <th>2</th>\n",
       "      <td>HUNVFlag</td>\n",
       "      <td>-0.246612</td>\n",
       "    </tr>\n",
       "  </tbody>\n",
       "</table>\n",
       "</div>"
      ],
      "text/plain": [
       "             feature  coefficient\n",
       "3  TractSNAP_percent    17.591663\n",
       "0    LowIncomeTracts    10.073910\n",
       "1      LATracts_half     6.430744\n",
       "2           HUNVFlag    -0.246612"
      ]
     },
     "execution_count": 20,
     "metadata": {},
     "output_type": "execute_result"
    }
   ],
   "source": [
    "linear_fit(food_obesity, cols_half_mile, 'HCSOBP_2016-2018')"
   ]
  },
  {
   "cell_type": "markdown",
   "id": "f1dc4879-834c-411e-bb28-ddb0bf81e135",
   "metadata": {},
   "source": [
    "We see about 18% improvement over baseline. SNAP percentage and the Low Income flag are the most useful predictors.  Food access within a half mile appears to be a much better predictor than access within 1 mile."
   ]
  },
  {
   "cell_type": "code",
   "execution_count": 21,
   "id": "91719cf7-d7ca-4c09-b64b-0493c5e9739b",
   "metadata": {},
   "outputs": [
    {
     "name": "stdout",
     "output_type": "stream",
     "text": [
      "Training R2: 0.16989347897522222\n",
      "Testing R2: 0.26334518862607126\n",
      "Baseline RMSE: 3.5541007131375006\n",
      "Regression RMSE: 3.0504347885606986\n",
      "Improvement over baseline: 0.503665924576802\n",
      "Proportional improvement: 0.14171402704347513\n"
     ]
    },
    {
     "data": {
      "text/html": [
       "<div>\n",
       "<style scoped>\n",
       "    .dataframe tbody tr th:only-of-type {\n",
       "        vertical-align: middle;\n",
       "    }\n",
       "\n",
       "    .dataframe tbody tr th {\n",
       "        vertical-align: top;\n",
       "    }\n",
       "\n",
       "    .dataframe thead th {\n",
       "        text-align: right;\n",
       "    }\n",
       "</style>\n",
       "<table border=\"1\" class=\"dataframe\">\n",
       "  <thead>\n",
       "    <tr style=\"text-align: right;\">\n",
       "      <th></th>\n",
       "      <th>feature</th>\n",
       "      <th>coefficient</th>\n",
       "    </tr>\n",
       "  </thead>\n",
       "  <tbody>\n",
       "    <tr>\n",
       "      <th>0</th>\n",
       "      <td>LowIncomeTracts</td>\n",
       "      <td>2.957291</td>\n",
       "    </tr>\n",
       "    <tr>\n",
       "      <th>1</th>\n",
       "      <td>LATracts1</td>\n",
       "      <td>1.054966</td>\n",
       "    </tr>\n",
       "    <tr>\n",
       "      <th>2</th>\n",
       "      <td>HUNVFlag</td>\n",
       "      <td>0.937767</td>\n",
       "    </tr>\n",
       "    <tr>\n",
       "      <th>3</th>\n",
       "      <td>TractSNAP_percent</td>\n",
       "      <td>-2.248496</td>\n",
       "    </tr>\n",
       "  </tbody>\n",
       "</table>\n",
       "</div>"
      ],
      "text/plain": [
       "             feature  coefficient\n",
       "0    LowIncomeTracts     2.957291\n",
       "1          LATracts1     1.054966\n",
       "2           HUNVFlag     0.937767\n",
       "3  TractSNAP_percent    -2.248496"
      ]
     },
     "execution_count": 21,
     "metadata": {},
     "output_type": "execute_result"
    }
   ],
   "source": [
    "linear_fit(food_diabetes, cols_1_mile, 'HCSDIAP_2016-2018')"
   ]
  },
  {
   "cell_type": "code",
   "execution_count": 22,
   "id": "09c13b09-158a-4e39-8aed-58f949fb4452",
   "metadata": {},
   "outputs": [
    {
     "name": "stdout",
     "output_type": "stream",
     "text": [
      "Training R2: 0.2097004066954049\n",
      "Testing R2: 0.27455355228964995\n",
      "Baseline RMSE: 3.5541007131375006\n",
      "Regression RMSE: 3.027139322115134\n",
      "Improvement over baseline: 0.5269613910223665\n",
      "Proportional improvement: 0.14826855892813848\n"
     ]
    },
    {
     "data": {
      "text/html": [
       "<div>\n",
       "<style scoped>\n",
       "    .dataframe tbody tr th:only-of-type {\n",
       "        vertical-align: middle;\n",
       "    }\n",
       "\n",
       "    .dataframe tbody tr th {\n",
       "        vertical-align: top;\n",
       "    }\n",
       "\n",
       "    .dataframe thead th {\n",
       "        text-align: right;\n",
       "    }\n",
       "</style>\n",
       "<table border=\"1\" class=\"dataframe\">\n",
       "  <thead>\n",
       "    <tr style=\"text-align: right;\">\n",
       "      <th></th>\n",
       "      <th>feature</th>\n",
       "      <th>coefficient</th>\n",
       "    </tr>\n",
       "  </thead>\n",
       "  <tbody>\n",
       "    <tr>\n",
       "      <th>0</th>\n",
       "      <td>LowIncomeTracts</td>\n",
       "      <td>3.102989</td>\n",
       "    </tr>\n",
       "    <tr>\n",
       "      <th>1</th>\n",
       "      <td>LATracts_half</td>\n",
       "      <td>2.030085</td>\n",
       "    </tr>\n",
       "    <tr>\n",
       "      <th>2</th>\n",
       "      <td>HUNVFlag</td>\n",
       "      <td>-0.579829</td>\n",
       "    </tr>\n",
       "    <tr>\n",
       "      <th>3</th>\n",
       "      <td>TractSNAP_percent</td>\n",
       "      <td>-2.511129</td>\n",
       "    </tr>\n",
       "  </tbody>\n",
       "</table>\n",
       "</div>"
      ],
      "text/plain": [
       "             feature  coefficient\n",
       "0    LowIncomeTracts     3.102989\n",
       "1      LATracts_half     2.030085\n",
       "2           HUNVFlag    -0.579829\n",
       "3  TractSNAP_percent    -2.511129"
      ]
     },
     "execution_count": 22,
     "metadata": {},
     "output_type": "execute_result"
    }
   ],
   "source": [
    "linear_fit(food_diabetes, cols_half_mile, 'HCSDIAP_2016-2018')"
   ]
  },
  {
   "cell_type": "code",
   "execution_count": null,
   "id": "e77c6859-d12e-47be-919c-ae9c289df8cc",
   "metadata": {},
   "outputs": [],
   "source": []
  }
 ],
 "metadata": {
  "kernelspec": {
   "display_name": "Python 3",
   "language": "python",
   "name": "python3"
  },
  "language_info": {
   "codemirror_mode": {
    "name": "ipython",
    "version": 3
   },
   "file_extension": ".py",
   "mimetype": "text/x-python",
   "name": "python",
   "nbconvert_exporter": "python",
   "pygments_lexer": "ipython3",
   "version": "3.8.8"
  }
 },
 "nbformat": 4,
 "nbformat_minor": 5
}
